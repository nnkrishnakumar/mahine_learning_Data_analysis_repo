{
 "cells": [
  {
   "cell_type": "code",
   "execution_count": 60,
   "id": "90006f7e-e3c2-40e2-9201-71ff4aa323ad",
   "metadata": {},
   "outputs": [],
   "source": [
    "import pandas as pd"
   ]
  },
  {
   "cell_type": "markdown",
   "id": "51ad332d-7886-4b2d-a773-41efd7ee6a19",
   "metadata": {},
   "source": [
    "Machine learning have three segement:\n",
    "\n",
    "1> Supervise learning:  feature + target\n",
    "\n",
    "2> Unsupervise learning: Feature\n",
    "\n",
    "3> Reinforcement learning: no feature + no target\n",
    "\n",
    "\n",
    "\n",
    "KNN\n",
    "\n",
    "Linear Regression\n",
    "\n",
    "Logistic Regression\n",
    "\n",
    "Decision Tree\n",
    "\n",
    "Ensemble learning \n",
    "\n",
    "Randomforest\n",
    "\n",
    "Bagging\n",
    "\n",
    "Adaboostclassifier\n",
    "\n",
    "AdaboostRegressor\n",
    "\n",
    "Votingclassifier\n",
    "\n",
    "etc.\n",
    "\n",
    "OpenCV\n",
    "\n",
    "facedetection/ object detection\n",
    "\n",
    "NLP:\n",
    "    \n",
    "Unsupervise Learning \n",
    "\n",
    "K-Mena\n",
    "\n",
    "Nearest Neighbore\n",
    "\n",
    "Recommendation \n",
    "\n",
    "complete:    \n"
   ]
  },
  {
   "cell_type": "markdown",
   "id": "366f5a79-4193-45d9-8db2-2e7b990534b3",
   "metadata": {},
   "source": [
    "# KNN"
   ]
  },
  {
   "cell_type": "code",
   "execution_count": 61,
   "id": "23762d4e-6ae7-44bd-95a9-3266c7b1f4fa",
   "metadata": {},
   "outputs": [],
   "source": [
    "import pandas as pd\n",
    "from sklearn.neighbors import KNeighborsClassifier\n",
    "import matplotlib.pyplot as plt\n",
    "import seaborn as sn"
   ]
  },
  {
   "cell_type": "code",
   "execution_count": 62,
   "id": "4c8e2f3b-e0d9-4123-b9b5-f4897348f9be",
   "metadata": {},
   "outputs": [
    {
     "data": {
      "text/html": [
       "<div>\n",
       "<style scoped>\n",
       "    .dataframe tbody tr th:only-of-type {\n",
       "        vertical-align: middle;\n",
       "    }\n",
       "\n",
       "    .dataframe tbody tr th {\n",
       "        vertical-align: top;\n",
       "    }\n",
       "\n",
       "    .dataframe thead th {\n",
       "        text-align: right;\n",
       "    }\n",
       "</style>\n",
       "<table border=\"1\" class=\"dataframe\">\n",
       "  <thead>\n",
       "    <tr style=\"text-align: right;\">\n",
       "      <th></th>\n",
       "      <th>length(cm)</th>\n",
       "      <th>width(cm)</th>\n",
       "      <th>name</th>\n",
       "    </tr>\n",
       "  </thead>\n",
       "  <tbody>\n",
       "    <tr>\n",
       "      <th>0</th>\n",
       "      <td>100.0</td>\n",
       "      <td>5.0</td>\n",
       "      <td>Banana</td>\n",
       "    </tr>\n",
       "    <tr>\n",
       "      <th>1</th>\n",
       "      <td>60.0</td>\n",
       "      <td>40.0</td>\n",
       "      <td>Apple</td>\n",
       "    </tr>\n",
       "    <tr>\n",
       "      <th>2</th>\n",
       "      <td>70.0</td>\n",
       "      <td>4.0</td>\n",
       "      <td>Apple</td>\n",
       "    </tr>\n",
       "    <tr>\n",
       "      <th>3</th>\n",
       "      <td>90.0</td>\n",
       "      <td>4.5</td>\n",
       "      <td>Banana</td>\n",
       "    </tr>\n",
       "    <tr>\n",
       "      <th>4</th>\n",
       "      <td>71.0</td>\n",
       "      <td>44.0</td>\n",
       "      <td>Apple</td>\n",
       "    </tr>\n",
       "    <tr>\n",
       "      <th>5</th>\n",
       "      <td>80.0</td>\n",
       "      <td>6.0</td>\n",
       "      <td>Banana</td>\n",
       "    </tr>\n",
       "    <tr>\n",
       "      <th>6</th>\n",
       "      <td>61.0</td>\n",
       "      <td>49.0</td>\n",
       "      <td>Apple</td>\n",
       "    </tr>\n",
       "    <tr>\n",
       "      <th>7</th>\n",
       "      <td>60.0</td>\n",
       "      <td>34.0</td>\n",
       "      <td>Banana</td>\n",
       "    </tr>\n",
       "    <tr>\n",
       "      <th>8</th>\n",
       "      <td>84.0</td>\n",
       "      <td>45.0</td>\n",
       "      <td>Banana</td>\n",
       "    </tr>\n",
       "    <tr>\n",
       "      <th>9</th>\n",
       "      <td>70.0</td>\n",
       "      <td>5.2</td>\n",
       "      <td>Banana</td>\n",
       "    </tr>\n",
       "    <tr>\n",
       "      <th>10</th>\n",
       "      <td>89.0</td>\n",
       "      <td>4.5</td>\n",
       "      <td>Banana</td>\n",
       "    </tr>\n",
       "    <tr>\n",
       "      <th>11</th>\n",
       "      <td>91.0</td>\n",
       "      <td>4.0</td>\n",
       "      <td>Banana</td>\n",
       "    </tr>\n",
       "    <tr>\n",
       "      <th>12</th>\n",
       "      <td>97.5</td>\n",
       "      <td>7.0</td>\n",
       "      <td>Banana</td>\n",
       "    </tr>\n",
       "    <tr>\n",
       "      <th>13</th>\n",
       "      <td>75.0</td>\n",
       "      <td>51.0</td>\n",
       "      <td>Apple</td>\n",
       "    </tr>\n",
       "    <tr>\n",
       "      <th>14</th>\n",
       "      <td>50.0</td>\n",
       "      <td>29.0</td>\n",
       "      <td>Apple</td>\n",
       "    </tr>\n",
       "    <tr>\n",
       "      <th>15</th>\n",
       "      <td>51.5</td>\n",
       "      <td>30.2</td>\n",
       "      <td>Apple</td>\n",
       "    </tr>\n",
       "  </tbody>\n",
       "</table>\n",
       "</div>"
      ],
      "text/plain": [
       "    length(cm)  width(cm)    name\n",
       "0        100.0        5.0  Banana\n",
       "1         60.0       40.0   Apple\n",
       "2         70.0        4.0   Apple\n",
       "3         90.0        4.5  Banana\n",
       "4         71.0       44.0   Apple\n",
       "5         80.0        6.0  Banana\n",
       "6         61.0       49.0   Apple\n",
       "7         60.0       34.0  Banana\n",
       "8         84.0       45.0  Banana\n",
       "9         70.0        5.2  Banana\n",
       "10        89.0        4.5  Banana\n",
       "11        91.0        4.0  Banana\n",
       "12        97.5        7.0  Banana\n",
       "13        75.0       51.0   Apple\n",
       "14        50.0       29.0   Apple\n",
       "15        51.5       30.2   Apple"
      ]
     },
     "execution_count": 62,
     "metadata": {},
     "output_type": "execute_result"
    }
   ],
   "source": [
    "df=pd.read_excel(r\"C:\\Users\\Ducat\\Desktop\\AI_batch\\Fruit1.xlsx\")\n",
    "df"
   ]
  },
  {
   "cell_type": "code",
   "execution_count": 63,
   "id": "9b3ca920-fac1-4fcd-acf5-83cecc90c56c",
   "metadata": {},
   "outputs": [
    {
     "data": {
      "text/plain": [
       "array(['Apple'], dtype=object)"
      ]
     },
     "execution_count": 63,
     "metadata": {},
     "output_type": "execute_result"
    }
   ],
   "source": [
    "X=df.iloc[:,:-1].values      # feature\n",
    "y=df.iloc[:,-1].values       # target\n",
    "model=KNeighborsClassifier()\n",
    "model.fit(X,y)\n",
    "sample=[[91,81]]\n",
    "model.predict(sample)"
   ]
  },
  {
   "cell_type": "markdown",
   "id": "6f43e2e2-07bb-45c3-8736-98400b5e70be",
   "metadata": {},
   "source": [
    "# Ploting the graph with acutal data without training  any model"
   ]
  },
  {
   "cell_type": "code",
   "execution_count": 64,
   "id": "1a053287-003a-4241-9c0b-581b4cca12c2",
   "metadata": {},
   "outputs": [
    {
     "name": "stderr",
     "output_type": "stream",
     "text": [
      "C:\\Users\\Ducat\\anaconda3\\lib\\site-packages\\seaborn\\_decorators.py:36: FutureWarning: Pass the following variables as keyword args: x, y. From version 0.12, the only valid positional argument will be `data`, and passing other arguments without an explicit keyword will result in an error or misinterpretation.\n",
      "  warnings.warn(\n"
     ]
    },
    {
     "data": {
      "text/plain": [
       "<AxesSubplot:xlabel='length', ylabel='width'>"
      ]
     },
     "execution_count": 64,
     "metadata": {},
     "output_type": "execute_result"
    },
    {
     "data": {
      "image/png": "[encoded data removed]",
      "text/plain": [
       "<Figure size 432x288 with 1 Axes>"
      ]
     },
     "metadata": {
      "needs_background": "light"
     },
     "output_type": "display_data"
    }
   ],
   "source": [
    "plt.xlabel(\"length\")\n",
    "plt.ylabel(\"width\")\n",
    "sn.scatterplot(X[:,0],X[:,1],hue=y)"
   ]
  },
  {
   "cell_type": "markdown",
   "id": "f1c07ccb-e6e4-4074-aa08-8b872c916cb0",
   "metadata": {},
   "source": [
    "# Ploting the graph with predicted data after prediting the model "
   ]
  },
  {
   "cell_type": "code",
   "execution_count": 65,
   "id": "a242b23d-06ca-41f9-bd10-b59b0a7a844d",
   "metadata": {},
   "outputs": [
    {
     "name": "stderr",
     "output_type": "stream",
     "text": [
      "C:\\Users\\Ducat\\anaconda3\\lib\\site-packages\\seaborn\\_decorators.py:36: FutureWarning: Pass the following variables as keyword args: x, y. From version 0.12, the only valid positional argument will be `data`, and passing other arguments without an explicit keyword will result in an error or misinterpretation.\n",
      "  warnings.warn(\n"
     ]
    },
    {
     "data": {
      "text/plain": [
       "<AxesSubplot:xlabel='length', ylabel='width'>"
      ]
     },
     "execution_count": 65,
     "metadata": {},
     "output_type": "execute_result"
    },
    {
     "data": {
      "image/png": "[encoded data removed]",
      "text/plain": [
       "<Figure size 432x288 with 1 Axes>"
      ]
     },
     "metadata": {
      "needs_background": "light"
     },
     "output_type": "display_data"
    }
   ],
   "source": [
    "y_pred=model.predict(X)\n",
    "plt.xlabel(\"length\")\n",
    "plt.ylabel(\"width\")\n",
    "sn.scatterplot(X[:,0],X[:,1],hue=y_pred)"
   ]
  },
  {
   "cell_type": "markdown",
   "id": "ac927945-b031-4328-a7bf-28cecf9c29b7",
   "metadata": {},
   "source": [
    "conclusion: \n",
    "    \n",
    "    KNN work on distance formula like euclidian, minkwiski, and Manhatten,it simimpy calculate the distance with all the datapoint and pick 5 nearest data point and after voting it decide  the class of given sample.\n",
    "    "
   ]
  },
  {
   "cell_type": "markdown",
   "id": "1ae4397f-cd23-4b78-aa00-d9657e387929",
   "metadata": {},
   "source": [
    "# distance formula"
   ]
  },
  {
   "cell_type": "markdown",
   "id": "1f3bf189-647c-4cde-a3f0-ae72335c426c",
   "metadata": {},
   "source": [
    "# Euclidean Distance Formula"
   ]
  },
  {
   "cell_type": "markdown",
   "id": "831285cb-9e51-4cd1-b695-58d7cf035e68",
   "metadata": {},
   "source": [
    "d = √[ (x\n",
    "2\n",
    " – x\n",
    "1\n",
    ")* * *(2) + (y\n",
    "2\n",
    " – y\n",
    "1\n",
    ")* * *(2)]"
   ]
  },
  {
   "cell_type": "markdown",
   "id": "6b456e2a-c485-4b18-a3f3-f857fd02c0fe",
   "metadata": {},
   "source": [
    "# minkowski distance Formula\n",
    "\n",
    "d = [ (x 2 – x 1 )* * (2) + (y 2 – y 1 ) * *(2)] * *(1/p)\n",
    "\n",
    "p belong to N  (1-infite)"
   ]
  },
  {
   "cell_type": "code",
   "execution_count": 66,
   "id": "83251686-3fe2-4a29-bc2b-be71b23818f6",
   "metadata": {},
   "outputs": [],
   "source": [
    "def minkowski(n,p):\n",
    "    return (n)**(1/p)\n",
    "\n",
    " "
   ]
  },
  {
   "cell_type": "code",
   "execution_count": 67,
   "id": "106392cc-a7d6-42a6-beda-de18d8b538e7",
   "metadata": {},
   "outputs": [
    {
     "data": {
      "text/plain": [
       "2.0"
      ]
     },
     "execution_count": 67,
     "metadata": {},
     "output_type": "execute_result"
    }
   ],
   "source": [
    "minkowski(8,3)"
   ]
  },
  {
   "cell_type": "markdown",
   "id": "f2b0bd09-a3ea-40d3-822d-55125735b500",
   "metadata": {},
   "source": [
    "# manhattan distance formula\n",
    "\n",
    "mdis=|x2-x1|+|y2-y1|"
   ]
  },
  {
   "cell_type": "code",
   "execution_count": 68,
   "id": "54c5cc0c-a971-438a-80ab-903b42877fb8",
   "metadata": {},
   "outputs": [
    {
     "data": {
      "text/plain": [
       "array(['Banana'], dtype=object)"
      ]
     },
     "execution_count": 68,
     "metadata": {},
     "output_type": "execute_result"
    }
   ],
   "source": [
    "X=df.iloc[:,:-1].values      # feature\n",
    "y=df.iloc[:,-1].values       # target\n",
    "model=KNeighborsClassifier(n_neighbors=16)\n",
    "model.fit(X,y)\n",
    "sample=[[91,81]]\n",
    "model.predict(sample)"
   ]
  },
  {
   "cell_type": "code",
   "execution_count": 69,
   "id": "b7e00867-c6f2-4d31-92e9-1dcddf1d2d06",
   "metadata": {},
   "outputs": [
    {
     "data": {
      "text/html": [
       "<div>\n",
       "<style scoped>\n",
       "    .dataframe tbody tr th:only-of-type {\n",
       "        vertical-align: middle;\n",
       "    }\n",
       "\n",
       "    .dataframe tbody tr th {\n",
       "        vertical-align: top;\n",
       "    }\n",
       "\n",
       "    .dataframe thead th {\n",
       "        text-align: right;\n",
       "    }\n",
       "</style>\n",
       "<table border=\"1\" class=\"dataframe\">\n",
       "  <thead>\n",
       "    <tr style=\"text-align: right;\">\n",
       "      <th></th>\n",
       "      <th>length(cm)</th>\n",
       "      <th>width(cm)</th>\n",
       "      <th>name</th>\n",
       "    </tr>\n",
       "  </thead>\n",
       "  <tbody>\n",
       "    <tr>\n",
       "      <th>0</th>\n",
       "      <td>100.0</td>\n",
       "      <td>5.0</td>\n",
       "      <td>Banana</td>\n",
       "    </tr>\n",
       "    <tr>\n",
       "      <th>1</th>\n",
       "      <td>60.0</td>\n",
       "      <td>40.0</td>\n",
       "      <td>Apple</td>\n",
       "    </tr>\n",
       "    <tr>\n",
       "      <th>2</th>\n",
       "      <td>70.0</td>\n",
       "      <td>4.0</td>\n",
       "      <td>Apple</td>\n",
       "    </tr>\n",
       "    <tr>\n",
       "      <th>3</th>\n",
       "      <td>90.0</td>\n",
       "      <td>4.5</td>\n",
       "      <td>Banana</td>\n",
       "    </tr>\n",
       "    <tr>\n",
       "      <th>4</th>\n",
       "      <td>71.0</td>\n",
       "      <td>44.0</td>\n",
       "      <td>Apple</td>\n",
       "    </tr>\n",
       "    <tr>\n",
       "      <th>5</th>\n",
       "      <td>80.0</td>\n",
       "      <td>6.0</td>\n",
       "      <td>Banana</td>\n",
       "    </tr>\n",
       "    <tr>\n",
       "      <th>6</th>\n",
       "      <td>61.0</td>\n",
       "      <td>49.0</td>\n",
       "      <td>Apple</td>\n",
       "    </tr>\n",
       "    <tr>\n",
       "      <th>7</th>\n",
       "      <td>60.0</td>\n",
       "      <td>34.0</td>\n",
       "      <td>Banana</td>\n",
       "    </tr>\n",
       "    <tr>\n",
       "      <th>8</th>\n",
       "      <td>84.0</td>\n",
       "      <td>45.0</td>\n",
       "      <td>Banana</td>\n",
       "    </tr>\n",
       "    <tr>\n",
       "      <th>9</th>\n",
       "      <td>70.0</td>\n",
       "      <td>5.2</td>\n",
       "      <td>Banana</td>\n",
       "    </tr>\n",
       "    <tr>\n",
       "      <th>10</th>\n",
       "      <td>89.0</td>\n",
       "      <td>4.5</td>\n",
       "      <td>Banana</td>\n",
       "    </tr>\n",
       "    <tr>\n",
       "      <th>11</th>\n",
       "      <td>91.0</td>\n",
       "      <td>4.0</td>\n",
       "      <td>Banana</td>\n",
       "    </tr>\n",
       "    <tr>\n",
       "      <th>12</th>\n",
       "      <td>97.5</td>\n",
       "      <td>7.0</td>\n",
       "      <td>Banana</td>\n",
       "    </tr>\n",
       "    <tr>\n",
       "      <th>13</th>\n",
       "      <td>75.0</td>\n",
       "      <td>51.0</td>\n",
       "      <td>Apple</td>\n",
       "    </tr>\n",
       "    <tr>\n",
       "      <th>14</th>\n",
       "      <td>50.0</td>\n",
       "      <td>29.0</td>\n",
       "      <td>Apple</td>\n",
       "    </tr>\n",
       "    <tr>\n",
       "      <th>15</th>\n",
       "      <td>51.5</td>\n",
       "      <td>30.2</td>\n",
       "      <td>Apple</td>\n",
       "    </tr>\n",
       "  </tbody>\n",
       "</table>\n",
       "</div>"
      ],
      "text/plain": [
       "    length(cm)  width(cm)    name\n",
       "0        100.0        5.0  Banana\n",
       "1         60.0       40.0   Apple\n",
       "2         70.0        4.0   Apple\n",
       "3         90.0        4.5  Banana\n",
       "4         71.0       44.0   Apple\n",
       "5         80.0        6.0  Banana\n",
       "6         61.0       49.0   Apple\n",
       "7         60.0       34.0  Banana\n",
       "8         84.0       45.0  Banana\n",
       "9         70.0        5.2  Banana\n",
       "10        89.0        4.5  Banana\n",
       "11        91.0        4.0  Banana\n",
       "12        97.5        7.0  Banana\n",
       "13        75.0       51.0   Apple\n",
       "14        50.0       29.0   Apple\n",
       "15        51.5       30.2   Apple"
      ]
     },
     "execution_count": 69,
     "metadata": {},
     "output_type": "execute_result"
    }
   ],
   "source": [
    "df"
   ]
  },
  {
   "cell_type": "code",
   "execution_count": 70,
   "id": "f4ebe970-1e34-4a37-916b-acc5cad6b050",
   "metadata": {},
   "outputs": [
    {
     "data": {
      "text/plain": [
       "array(['Apple'], dtype=object)"
      ]
     },
     "execution_count": 70,
     "metadata": {},
     "output_type": "execute_result"
    }
   ],
   "source": [
    "X=df.iloc[:,:-1].values      # feature\n",
    "y=df.iloc[:,-1].values       # target\n",
    "model=KNeighborsClassifier(n_neighbors=5,p=2)\n",
    "model.fit(X,y)\n",
    "sample=[[91,81]]\n",
    "model.predict(sample)"
   ]
  },
  {
   "cell_type": "markdown",
   "id": "7a2e2f63-2622-4744-a338-e6ec3436011f",
   "metadata": {},
   "source": [
    "# overfitting: \n",
    "### If model's Training score is good on training data and worst on testing data, called overfitting. \n",
    "\n",
    "# underfitting: \n",
    "### If model's Training score is worst on Training data and good on testing data, called underfitting."
   ]
  },
  {
   "cell_type": "markdown",
   "id": "534bc3dc-55ef-46c3-9466-a042f1debc08",
   "metadata": {},
   "source": [
    "# Bias: \n",
    "### Total score-Training score> threshold(high bias) \n",
    "### Total score-Training score< threshold(less bias) \n",
    "# Varience: \n",
    "### Training score- Testing score> |threshold value| , High Varience. \n",
    "### Training score- Testing score< |threshold value| ,  low varience\n",
    "\n",
    "Note: Threshold value is decided own our own, Threshold value assume best if it lies between (1-5)."
   ]
  },
  {
   "cell_type": "markdown",
   "id": "de4d7661-dafc-4b92-ab4e-6231449cbadd",
   "metadata": {},
   "source": [
    "# Linear Regression"
   ]
  },
  {
   "cell_type": "code",
   "execution_count": 71,
   "id": "c3cdcb66-84a9-4fbf-8dac-27f7d6a98b96",
   "metadata": {},
   "outputs": [],
   "source": [
    "exp=[1,2,3,4,5]\n",
    "salary=[10000,20000,30000,40000,50000]\n",
    "\n",
    "# y=mx+c"
   ]
  },
  {
   "cell_type": "code",
   "execution_count": 72,
   "id": "f4cb110d-8df3-412c-8341-7a306767c0f6",
   "metadata": {},
   "outputs": [
    {
     "name": "stdout",
     "output_type": "stream",
     "text": [
      "Slope : 10000.0\n",
      "predicted salary of 10 years candidate : 100000\n"
     ]
    }
   ],
   "source": [
    "# 1st manual rule of linear Regression\n",
    "def slope(exp,salary):\n",
    "    a=1\n",
    "    b=10000\n",
    "    for i,j in zip(exp[1:],salary[1:]):\n",
    "        slop=(j-b)/(i-a)\n",
    "    print(\"Slope :\",slop)\n",
    "slope(exp,salary)\n",
    "\n",
    "# y=mx+c\n",
    "experience=10\n",
    "pred_salary=10000*experience+0\n",
    "print(\"predicted salary of 10 years candidate :\",pred_salary)"
   ]
  },
  {
   "cell_type": "markdown",
   "id": "9f0c1297-172c-4ce0-a869-d85b5dbd91cb",
   "metadata": {},
   "source": [
    "# 2nd Approch using Sklearn package(machine leanring )"
   ]
  },
  {
   "cell_type": "code",
   "execution_count": 73,
   "id": "abdbe57b-8e85-4d69-b92c-2aecfb3df9dc",
   "metadata": {},
   "outputs": [
    {
     "data": {
      "text/plain": [
       "array([100000.])"
      ]
     },
     "execution_count": 73,
     "metadata": {},
     "output_type": "execute_result"
    }
   ],
   "source": [
    "from sklearn.linear_model import LinearRegression\n",
    "model=LinearRegression()\n",
    "model.fit([[i] for i in exp],salary)\n",
    "model.predict([[10]])"
   ]
  },
  {
   "cell_type": "code",
   "execution_count": 74,
   "id": "3ac07f91-614e-4176-8235-6db7cab9a270",
   "metadata": {},
   "outputs": [
    {
     "name": "stdout",
     "output_type": "stream",
     "text": [
      "[[100000.]]\n"
     ]
    }
   ],
   "source": [
    "# y=mx+c\n",
    "m=model.coef_     # slop \n",
    "c=model.intercept_   # constant c\n",
    "experience=[[10]]\n",
    "y=m*experience+c\n",
    "print(y)"
   ]
  },
  {
   "cell_type": "markdown",
   "id": "89d5988b-7d65-4592-a557-4cedeb0a77cf",
   "metadata": {},
   "source": [
    "Date-20/11/2022\n",
    "# Logistic Regression"
   ]
  },
  {
   "cell_type": "code",
   "execution_count": 75,
   "id": "a65b24a7-3cff-42aa-a7e2-dce121ba03f4",
   "metadata": {},
   "outputs": [],
   "source": [
    "import pandas as pd\n",
    "import matplotlib.pyplot as plt\n",
    "import seaborn as sb"
   ]
  },
  {
   "cell_type": "code",
   "execution_count": 76,
   "id": "089889ad-0d62-4e6e-aa6d-094e08bc2ddd",
   "metadata": {},
   "outputs": [],
   "source": [
    "iris=pd.read_csv(\"Iris.csv\")"
   ]
  },
  {
   "cell_type": "code",
   "execution_count": 77,
   "id": "24583cb6-c7df-4fb7-8924-19edb538c6d3",
   "metadata": {},
   "outputs": [
    {
     "data": {
      "text/html": [
       "<div>\n",
       "<style scoped>\n",
       "    .dataframe tbody tr th:only-of-type {\n",
       "        vertical-align: middle;\n",
       "    }\n",
       "\n",
       "    .dataframe tbody tr th {\n",
       "        vertical-align: top;\n",
       "    }\n",
       "\n",
       "    .dataframe thead th {\n",
       "        text-align: right;\n",
       "    }\n",
       "</style>\n",
       "<table border=\"1\" class=\"dataframe\">\n",
       "  <thead>\n",
       "    <tr style=\"text-align: right;\">\n",
       "      <th></th>\n",
       "      <th>Id</th>\n",
       "      <th>SepalLengthCm</th>\n",
       "      <th>SepalWidthCm</th>\n",
       "      <th>PetalLengthCm</th>\n",
       "      <th>PetalWidthCm</th>\n",
       "      <th>Species</th>\n",
       "    </tr>\n",
       "  </thead>\n",
       "  <tbody>\n",
       "    <tr>\n",
       "      <th>0</th>\n",
       "      <td>1</td>\n",
       "      <td>5.1</td>\n",
       "      <td>3.5</td>\n",
       "      <td>1.4</td>\n",
       "      <td>0.2</td>\n",
       "      <td>Iris-setosa</td>\n",
       "    </tr>\n",
       "    <tr>\n",
       "      <th>1</th>\n",
       "      <td>2</td>\n",
       "      <td>4.9</td>\n",
       "      <td>3.0</td>\n",
       "      <td>1.4</td>\n",
       "      <td>0.2</td>\n",
       "      <td>Iris-setosa</td>\n",
       "    </tr>\n",
       "    <tr>\n",
       "      <th>2</th>\n",
       "      <td>3</td>\n",
       "      <td>4.7</td>\n",
       "      <td>3.2</td>\n",
       "      <td>1.3</td>\n",
       "      <td>0.2</td>\n",
       "      <td>Iris-setosa</td>\n",
       "    </tr>\n",
       "    <tr>\n",
       "      <th>3</th>\n",
       "      <td>4</td>\n",
       "      <td>4.6</td>\n",
       "      <td>3.1</td>\n",
       "      <td>1.5</td>\n",
       "      <td>0.2</td>\n",
       "      <td>Iris-setosa</td>\n",
       "    </tr>\n",
       "    <tr>\n",
       "      <th>4</th>\n",
       "      <td>5</td>\n",
       "      <td>5.0</td>\n",
       "      <td>3.6</td>\n",
       "      <td>1.4</td>\n",
       "      <td>0.2</td>\n",
       "      <td>Iris-setosa</td>\n",
       "    </tr>\n",
       "    <tr>\n",
       "      <th>...</th>\n",
       "      <td>...</td>\n",
       "      <td>...</td>\n",
       "      <td>...</td>\n",
       "      <td>...</td>\n",
       "      <td>...</td>\n",
       "      <td>...</td>\n",
       "    </tr>\n",
       "    <tr>\n",
       "      <th>145</th>\n",
       "      <td>146</td>\n",
       "      <td>6.7</td>\n",
       "      <td>3.0</td>\n",
       "      <td>5.2</td>\n",
       "      <td>2.3</td>\n",
       "      <td>Iris-virginica</td>\n",
       "    </tr>\n",
       "    <tr>\n",
       "      <th>146</th>\n",
       "      <td>147</td>\n",
       "      <td>6.3</td>\n",
       "      <td>2.5</td>\n",
       "      <td>5.0</td>\n",
       "      <td>1.9</td>\n",
       "      <td>Iris-virginica</td>\n",
       "    </tr>\n",
       "    <tr>\n",
       "      <th>147</th>\n",
       "      <td>148</td>\n",
       "      <td>6.5</td>\n",
       "      <td>3.0</td>\n",
       "      <td>5.2</td>\n",
       "      <td>2.0</td>\n",
       "      <td>Iris-virginica</td>\n",
       "    </tr>\n",
       "    <tr>\n",
       "      <th>148</th>\n",
       "      <td>149</td>\n",
       "      <td>6.2</td>\n",
       "      <td>3.4</td>\n",
       "      <td>5.4</td>\n",
       "      <td>2.3</td>\n",
       "      <td>Iris-virginica</td>\n",
       "    </tr>\n",
       "    <tr>\n",
       "      <th>149</th>\n",
       "      <td>150</td>\n",
       "      <td>5.9</td>\n",
       "      <td>3.0</td>\n",
       "      <td>5.1</td>\n",
       "      <td>1.8</td>\n",
       "      <td>Iris-virginica</td>\n",
       "    </tr>\n",
       "  </tbody>\n",
       "</table>\n",
       "<p>150 rows × 6 columns</p>\n",
       "</div>"
      ],
      "text/plain": [
       "      Id  SepalLengthCm  SepalWidthCm  PetalLengthCm  PetalWidthCm  \\\n",
       "0      1            5.1           3.5            1.4           0.2   \n",
       "1      2            4.9           3.0            1.4           0.2   \n",
       "2      3            4.7           3.2            1.3           0.2   \n",
       "3      4            4.6           3.1            1.5           0.2   \n",
       "4      5            5.0           3.6            1.4           0.2   \n",
       "..   ...            ...           ...            ...           ...   \n",
       "145  146            6.7           3.0            5.2           2.3   \n",
       "146  147            6.3           2.5            5.0           1.9   \n",
       "147  148            6.5           3.0            5.2           2.0   \n",
       "148  149            6.2           3.4            5.4           2.3   \n",
       "149  150            5.9           3.0            5.1           1.8   \n",
       "\n",
       "            Species  \n",
       "0       Iris-setosa  \n",
       "1       Iris-setosa  \n",
       "2       Iris-setosa  \n",
       "3       Iris-setosa  \n",
       "4       Iris-setosa  \n",
       "..              ...  \n",
       "145  Iris-virginica  \n",
       "146  Iris-virginica  \n",
       "147  Iris-virginica  \n",
       "148  Iris-virginica  \n",
       "149  Iris-virginica  \n",
       "\n",
       "[150 rows x 6 columns]"
      ]
     },
     "execution_count": 77,
     "metadata": {},
     "output_type": "execute_result"
    }
   ],
   "source": [
    "iris"
   ]
  },
  {
   "cell_type": "code",
   "execution_count": 78,
   "id": "8cdd4efe-b2d5-48c4-8e7e-24782db65b23",
   "metadata": {},
   "outputs": [],
   "source": [
    "X=iris.iloc[:,-5:-1].values      # conversion of dataframe into 2D array which is also known as feature"
   ]
  },
  {
   "cell_type": "code",
   "execution_count": 79,
   "id": "931332d7-065d-4f08-ad09-3811c098546d",
   "metadata": {},
   "outputs": [],
   "source": [
    "y=iris.iloc[:,-1].values         # conversion of dataframe into 1D array which is also known as target"
   ]
  },
  {
   "cell_type": "code",
   "execution_count": 80,
   "id": "3c2f65b7-2042-41d4-9a93-241e232165b1",
   "metadata": {},
   "outputs": [
    {
     "data": {
      "text/html": [
       "<div>\n",
       "<style scoped>\n",
       "    .dataframe tbody tr th:only-of-type {\n",
       "        vertical-align: middle;\n",
       "    }\n",
       "\n",
       "    .dataframe tbody tr th {\n",
       "        vertical-align: top;\n",
       "    }\n",
       "\n",
       "    .dataframe thead th {\n",
       "        text-align: right;\n",
       "    }\n",
       "</style>\n",
       "<table border=\"1\" class=\"dataframe\">\n",
       "  <thead>\n",
       "    <tr style=\"text-align: right;\">\n",
       "      <th></th>\n",
       "      <th>0</th>\n",
       "      <th>1</th>\n",
       "      <th>2</th>\n",
       "      <th>3</th>\n",
       "    </tr>\n",
       "  </thead>\n",
       "  <tbody>\n",
       "    <tr>\n",
       "      <th>0</th>\n",
       "      <td>1.000000</td>\n",
       "      <td>-0.109369</td>\n",
       "      <td>0.871754</td>\n",
       "      <td>0.817954</td>\n",
       "    </tr>\n",
       "    <tr>\n",
       "      <th>1</th>\n",
       "      <td>-0.109369</td>\n",
       "      <td>1.000000</td>\n",
       "      <td>-0.420516</td>\n",
       "      <td>-0.356544</td>\n",
       "    </tr>\n",
       "    <tr>\n",
       "      <th>2</th>\n",
       "      <td>0.871754</td>\n",
       "      <td>-0.420516</td>\n",
       "      <td>1.000000</td>\n",
       "      <td>0.962757</td>\n",
       "    </tr>\n",
       "    <tr>\n",
       "      <th>3</th>\n",
       "      <td>0.817954</td>\n",
       "      <td>-0.356544</td>\n",
       "      <td>0.962757</td>\n",
       "      <td>1.000000</td>\n",
       "    </tr>\n",
       "  </tbody>\n",
       "</table>\n",
       "</div>"
      ],
      "text/plain": [
       "          0         1         2         3\n",
       "0  1.000000 -0.109369  0.871754  0.817954\n",
       "1 -0.109369  1.000000 -0.420516 -0.356544\n",
       "2  0.871754 -0.420516  1.000000  0.962757\n",
       "3  0.817954 -0.356544  0.962757  1.000000"
      ]
     },
     "execution_count": 80,
     "metadata": {},
     "output_type": "execute_result"
    }
   ],
   "source": [
    "pd.DataFrame(X).corr()    # np.array X first convert into dataframe then apply correlation \"dataframe.corr()\""
   ]
  },
  {
   "cell_type": "code",
   "execution_count": 81,
   "id": "86773bf5-d0bf-4319-bb7d-895434ec8821",
   "metadata": {},
   "outputs": [],
   "source": [
    "feature_df=iris.iloc[:,1:-1]"
   ]
  },
  {
   "cell_type": "code",
   "execution_count": 82,
   "id": "1eac1cd7-611a-43fa-9eb6-18fdd07b0730",
   "metadata": {},
   "outputs": [
    {
     "data": {
      "text/html": [
       "<div>\n",
       "<style scoped>\n",
       "    .dataframe tbody tr th:only-of-type {\n",
       "        vertical-align: middle;\n",
       "    }\n",
       "\n",
       "    .dataframe tbody tr th {\n",
       "        vertical-align: top;\n",
       "    }\n",
       "\n",
       "    .dataframe thead th {\n",
       "        text-align: right;\n",
       "    }\n",
       "</style>\n",
       "<table border=\"1\" class=\"dataframe\">\n",
       "  <thead>\n",
       "    <tr style=\"text-align: right;\">\n",
       "      <th></th>\n",
       "      <th>SepalLengthCm</th>\n",
       "      <th>SepalWidthCm</th>\n",
       "      <th>PetalLengthCm</th>\n",
       "      <th>PetalWidthCm</th>\n",
       "    </tr>\n",
       "  </thead>\n",
       "  <tbody>\n",
       "    <tr>\n",
       "      <th>SepalLengthCm</th>\n",
       "      <td>1.000000</td>\n",
       "      <td>-0.109369</td>\n",
       "      <td>0.871754</td>\n",
       "      <td>0.817954</td>\n",
       "    </tr>\n",
       "    <tr>\n",
       "      <th>SepalWidthCm</th>\n",
       "      <td>-0.109369</td>\n",
       "      <td>1.000000</td>\n",
       "      <td>-0.420516</td>\n",
       "      <td>-0.356544</td>\n",
       "    </tr>\n",
       "    <tr>\n",
       "      <th>PetalLengthCm</th>\n",
       "      <td>0.871754</td>\n",
       "      <td>-0.420516</td>\n",
       "      <td>1.000000</td>\n",
       "      <td>0.962757</td>\n",
       "    </tr>\n",
       "    <tr>\n",
       "      <th>PetalWidthCm</th>\n",
       "      <td>0.817954</td>\n",
       "      <td>-0.356544</td>\n",
       "      <td>0.962757</td>\n",
       "      <td>1.000000</td>\n",
       "    </tr>\n",
       "  </tbody>\n",
       "</table>\n",
       "</div>"
      ],
      "text/plain": [
       "               SepalLengthCm  SepalWidthCm  PetalLengthCm  PetalWidthCm\n",
       "SepalLengthCm       1.000000     -0.109369       0.871754      0.817954\n",
       "SepalWidthCm       -0.109369      1.000000      -0.420516     -0.356544\n",
       "PetalLengthCm       0.871754     -0.420516       1.000000      0.962757\n",
       "PetalWidthCm        0.817954     -0.356544       0.962757      1.000000"
      ]
     },
     "execution_count": 82,
     "metadata": {},
     "output_type": "execute_result"
    }
   ],
   "source": [
    "feature_df.corr()"
   ]
  },
  {
   "cell_type": "code",
   "execution_count": 83,
   "id": "16adddef-07f8-4c90-adce-8d3dff6646d6",
   "metadata": {},
   "outputs": [
    {
     "data": {
      "image/png": "[encoded data removed]",
      "text/plain": [
       "<Figure size 432x288 with 2 Axes>"
      ]
     },
     "metadata": {
      "needs_background": "light"
     },
     "output_type": "display_data"
    }
   ],
   "source": [
    "sb.heatmap(feature_df.corr(),fmt='.2g',annot=True)\n",
    "plt.show()"
   ]
  },
  {
   "cell_type": "code",
   "execution_count": 84,
   "id": "855bbee5-065b-441d-8394-f9a595fbd956",
   "metadata": {},
   "outputs": [
    {
     "data": {
      "text/plain": [
       "array(['Iris-setosa'], dtype=object)"
      ]
     },
     "execution_count": 84,
     "metadata": {},
     "output_type": "execute_result"
    }
   ],
   "source": [
    "from sklearn.linear_model import LogisticRegression\n",
    "model1=LogisticRegression()    # untrained model\n",
    "model1.fit(X,y)        # Trained model\n",
    "sample=[[4.7, 3.2, 1.3, 0.2]]\n",
    "model1.predict(sample)\n"
   ]
  },
  {
   "cell_type": "code",
   "execution_count": 85,
   "id": "a53b2a71-7c61-4b78-87fa-71a11898b19d",
   "metadata": {},
   "outputs": [
    {
     "data": {
      "text/plain": [
       "array([[9.85497259e-01, 1.45027288e-02, 1.21681471e-08]])"
      ]
     },
     "execution_count": 85,
     "metadata": {},
     "output_type": "execute_result"
    }
   ],
   "source": [
    "model1.predict_proba(sample)\n"
   ]
  },
  {
   "cell_type": "code",
   "execution_count": 86,
   "id": "f7bcfa39-b608-47fd-bb79-eb16a5b0faec",
   "metadata": {},
   "outputs": [
    {
     "data": {
      "text/plain": [
       "array([[9.85497259e-01, 1.45027288e-02, 1.21681471e-08]])"
      ]
     },
     "execution_count": 86,
     "metadata": {},
     "output_type": "execute_result"
    }
   ],
   "source": [
    "model1.predict_proba(sample)"
   ]
  },
  {
   "cell_type": "code",
   "execution_count": 87,
   "id": "4c7da092-5873-4618-ab88-b926d0a83a2d",
   "metadata": {},
   "outputs": [
    {
     "data": {
      "text/plain": [
       "Index(['Iris-setosa', 'Iris-versicolor', 'Iris-virginica'], dtype='object')"
      ]
     },
     "execution_count": 87,
     "metadata": {},
     "output_type": "execute_result"
    }
   ],
   "source": [
    "iris.Species.value_counts().index"
   ]
  },
  {
   "cell_type": "code",
   "execution_count": 88,
   "id": "cb3842c4-36f1-4002-b41e-88bde315f9f3",
   "metadata": {},
   "outputs": [],
   "source": [
    "# z=mx+c"
   ]
  },
  {
   "cell_type": "code",
   "execution_count": 89,
   "id": "1a49a95b-0d29-4e17-8dd4-2f79f0f725dd",
   "metadata": {},
   "outputs": [],
   "source": [
    "m=10000"
   ]
  },
  {
   "cell_type": "code",
   "execution_count": 90,
   "id": "ccb0cbb5-d890-42ee-981a-f3ed111d22ad",
   "metadata": {},
   "outputs": [],
   "source": [
    "c=0"
   ]
  },
  {
   "cell_type": "code",
   "execution_count": 91,
   "id": "30b6c623-9ced-4215-b227-67e27891621d",
   "metadata": {},
   "outputs": [],
   "source": [
    "z=m*1+c"
   ]
  },
  {
   "cell_type": "code",
   "execution_count": 92,
   "id": "fa8a880d-2a5c-4c38-9500-cf8be1e39ea1",
   "metadata": {},
   "outputs": [
    {
     "data": {
      "text/plain": [
       "10000"
      ]
     },
     "execution_count": 92,
     "metadata": {},
     "output_type": "execute_result"
    }
   ],
   "source": [
    "z"
   ]
  },
  {
   "cell_type": "code",
   "execution_count": 93,
   "id": "e71f68da-4f79-4630-8536-473d663c81ea",
   "metadata": {},
   "outputs": [],
   "source": [
    "sigmoid=1/(1+10**(-z))"
   ]
  },
  {
   "cell_type": "code",
   "execution_count": 94,
   "id": "c16d00dc-7bef-430e-a420-fc3f47150925",
   "metadata": {},
   "outputs": [
    {
     "data": {
      "text/plain": [
       "1.0"
      ]
     },
     "execution_count": 94,
     "metadata": {},
     "output_type": "execute_result"
    }
   ],
   "source": [
    "sigmoid"
   ]
  },
  {
   "cell_type": "code",
   "execution_count": 95,
   "id": "5aa13775-c2ee-4811-a306-45daf7fbbe69",
   "metadata": {},
   "outputs": [],
   "source": [
    "#z=y= mx+c   # equation of line\n",
    "# sigmoid  P(1)=1/(1+e**(-z)) ,  condition  P(1)>0.5 \n",
    "# sigmoid  P(0)=1/(1+e**(z)) ,  condition  P(0)<0.5 "
   ]
  },
  {
   "cell_type": "markdown",
   "id": "c5de3265-bf30-47a1-a0fa-e7f955ed4825",
   "metadata": {},
   "source": [
    "# Loss"
   ]
  },
  {
   "cell_type": "markdown",
   "id": "cc7c387b-e8ca-4784-823b-9a016e9adeff",
   "metadata": {},
   "source": [
    "MAE: Mean Absolute error:\n",
    "\n",
    "MSE: Mean Square error:\n",
    "\n",
    "RMSE: Root Mean Square Error:\n",
    "\n",
    "OLS: Ordinary Least Square."
   ]
  },
  {
   "cell_type": "code",
   "execution_count": 96,
   "id": "a001eaca-9848-4a66-8e6b-23105490b961",
   "metadata": {},
   "outputs": [],
   "source": [
    "import pandas as pd"
   ]
  },
  {
   "cell_type": "code",
   "execution_count": 97,
   "id": "d99d2762-4f8e-48e0-9a52-8b8ee9c84dd4",
   "metadata": {},
   "outputs": [],
   "source": [
    "df=pd.read_csv(\"Iris.csv\")"
   ]
  },
  {
   "cell_type": "code",
   "execution_count": 98,
   "id": "7f34dead-9fcf-4555-a101-b704011f2830",
   "metadata": {},
   "outputs": [],
   "source": [
    "X=df.iloc[:,1:-1].values"
   ]
  },
  {
   "cell_type": "code",
   "execution_count": 99,
   "id": "25ed3419-c4d6-47c3-956f-3e4fdbfe1092",
   "metadata": {},
   "outputs": [],
   "source": [
    "y=df.iloc[:,-1].values"
   ]
  },
  {
   "cell_type": "code",
   "execution_count": 100,
   "id": "fcee898c-520a-418b-8221-d695dc1b1f5d",
   "metadata": {},
   "outputs": [],
   "source": [
    "from sklearn.linear_model import LogisticRegression"
   ]
  },
  {
   "cell_type": "code",
   "execution_count": 101,
   "id": "0274cb87-8415-4352-b00a-3a02a0bd28bc",
   "metadata": {},
   "outputs": [],
   "source": [
    "model=LogisticRegression(max_iter=500) # untrained model"
   ]
  },
  {
   "cell_type": "code",
   "execution_count": 102,
   "id": "1f2066da-912d-4237-b80f-2a499cb3afda",
   "metadata": {},
   "outputs": [
    {
     "data": {
      "text/plain": [
       "LogisticRegression(max_iter=500)"
      ]
     },
     "execution_count": 102,
     "metadata": {},
     "output_type": "execute_result"
    }
   ],
   "source": [
    "model.fit(X,y)"
   ]
  },
  {
   "cell_type": "code",
   "execution_count": 103,
   "id": "1049a2f7-32ba-4c59-b1ad-751f0b62719e",
   "metadata": {},
   "outputs": [
    {
     "data": {
      "text/plain": [
       "array(['Iris-versicolor'], dtype=object)"
      ]
     },
     "execution_count": 103,
     "metadata": {},
     "output_type": "execute_result"
    }
   ],
   "source": [
    "sample=[1.5,0.9,3.2,1.5]\n",
    "model.predict([sample])"
   ]
  },
  {
   "cell_type": "code",
   "execution_count": 104,
   "id": "d31cbfeb-4b60-440f-9e5c-58147268b797",
   "metadata": {},
   "outputs": [
    {
     "data": {
      "text/plain": [
       "array([[0.39971205, 0.51184192, 0.08844603]])"
      ]
     },
     "execution_count": 104,
     "metadata": {},
     "output_type": "execute_result"
    }
   ],
   "source": [
    "model.predict_proba([sample])"
   ]
  },
  {
   "cell_type": "code",
   "execution_count": 105,
   "id": "c3c2c0e0-7dde-49ba-9ce4-3a22053e7328",
   "metadata": {},
   "outputs": [
    {
     "data": {
      "text/plain": [
       "Iris-setosa        50\n",
       "Iris-versicolor    50\n",
       "Iris-virginica     50\n",
       "Name: Species, dtype: int64"
      ]
     },
     "execution_count": 105,
     "metadata": {},
     "output_type": "execute_result"
    }
   ],
   "source": [
    "df.Species.value_counts()"
   ]
  },
  {
   "cell_type": "code",
   "execution_count": 106,
   "id": "3b0ccb19-d047-4231-8d74-231bada8564c",
   "metadata": {},
   "outputs": [
    {
     "data": {
      "text/plain": [
       "Index(['Iris-setosa', 'Iris-versicolor', 'Iris-virginica'], dtype='object')"
      ]
     },
     "execution_count": 106,
     "metadata": {},
     "output_type": "execute_result"
    }
   ],
   "source": [
    "df.Species.value_counts().index"
   ]
  },
  {
   "cell_type": "code",
   "execution_count": 107,
   "id": "03bf8b49-bbaa-4c8d-bc22-11480ae5882c",
   "metadata": {},
   "outputs": [],
   "source": [
    "y_pred=model.predict(X)"
   ]
  },
  {
   "cell_type": "markdown",
   "id": "c56ef731-a7b3-4dc1-a7ff-37e2f6e14c74",
   "metadata": {},
   "source": [
    "# classification score\n",
    "\n",
    "accuracy score\n",
    "\n",
    "precision score\n",
    "\n",
    "recall score\n",
    "\n",
    "confusion matrix\n",
    "\n",
    "f1 score\n",
    "\n",
    "classification report"
   ]
  },
  {
   "cell_type": "markdown",
   "id": "51d23e90-1620-4bc4-be3b-c8b1bb402a6f",
   "metadata": {},
   "source": [
    "# Confusion matrix( for multiclass classification )"
   ]
  },
  {
   "cell_type": "code",
   "execution_count": 108,
   "id": "4cc94dcd-3383-4731-8f5f-788c0e267aae",
   "metadata": {},
   "outputs": [],
   "source": [
    "from sklearn.metrics import confusion_matrix"
   ]
  },
  {
   "cell_type": "code",
   "execution_count": 109,
   "id": "28904219-a997-4d05-8b91-f44ab3dc341c",
   "metadata": {},
   "outputs": [
    {
     "data": {
      "text/plain": [
       "array([[50,  0,  0],\n",
       "       [ 0, 47,  3],\n",
       "       [ 0,  1, 49]], dtype=int64)"
      ]
     },
     "execution_count": 109,
     "metadata": {},
     "output_type": "execute_result"
    }
   ],
   "source": [
    "confusion_matrix(y,y_pred)"
   ]
  },
  {
   "cell_type": "code",
   "execution_count": 110,
   "id": "97bb6ca2-77f9-4e25-b474-056e117c6aaa",
   "metadata": {},
   "outputs": [],
   "source": [
    "from sklearn.metrics import accuracy_score"
   ]
  },
  {
   "cell_type": "code",
   "execution_count": 111,
   "id": "695fcd0d-905e-470e-a5d7-8286c78fdaad",
   "metadata": {},
   "outputs": [
    {
     "data": {
      "text/plain": [
       "0.9733333333333334"
      ]
     },
     "execution_count": 111,
     "metadata": {},
     "output_type": "execute_result"
    }
   ],
   "source": [
    "accuracy_score(y,y_pred)"
   ]
  },
  {
   "cell_type": "code",
   "execution_count": 112,
   "id": "7689bfcd-6e97-4038-99a6-12d11843646f",
   "metadata": {},
   "outputs": [
    {
     "data": {
      "text/plain": [
       "146"
      ]
     },
     "execution_count": 112,
     "metadata": {},
     "output_type": "execute_result"
    }
   ],
   "source": [
    "150-4"
   ]
  },
  {
   "cell_type": "code",
   "execution_count": 113,
   "id": "aaa51d0d-e226-4ae2-ba7f-2295ba84e2ab",
   "metadata": {},
   "outputs": [
    {
     "data": {
      "text/plain": [
       "0.9733333333333334"
      ]
     },
     "execution_count": 113,
     "metadata": {},
     "output_type": "execute_result"
    }
   ],
   "source": [
    "(150-4)/150  # accuracy score of iris dataset"
   ]
  },
  {
   "cell_type": "code",
   "execution_count": 114,
   "id": "a3e9eb82-a059-4756-891c-4c0c744d5cda",
   "metadata": {},
   "outputs": [],
   "source": [
    "from sklearn.metrics import classification_report"
   ]
  },
  {
   "cell_type": "code",
   "execution_count": 115,
   "id": "8b818216-4061-4bec-bcc8-1dc644502179",
   "metadata": {},
   "outputs": [
    {
     "name": "stdout",
     "output_type": "stream",
     "text": [
      "                 precision    recall  f1-score   support\n",
      "\n",
      "    Iris-setosa       1.00      1.00      1.00        50\n",
      "Iris-versicolor       0.98      0.94      0.96        50\n",
      " Iris-virginica       0.94      0.98      0.96        50\n",
      "\n",
      "       accuracy                           0.97       150\n",
      "      macro avg       0.97      0.97      0.97       150\n",
      "   weighted avg       0.97      0.97      0.97       150\n",
      "\n"
     ]
    }
   ],
   "source": [
    "print(classification_report(y,y_pred))"
   ]
  },
  {
   "cell_type": "code",
   "execution_count": 116,
   "id": "2a5dba82-cad1-430d-bb90-b1f535001eb9",
   "metadata": {},
   "outputs": [
    {
     "data": {
      "text/plain": [
       "0.9791666666666666"
      ]
     },
     "execution_count": 116,
     "metadata": {},
     "output_type": "execute_result"
    }
   ],
   "source": [
    "47/48"
   ]
  },
  {
   "cell_type": "code",
   "execution_count": 117,
   "id": "a38a86ed-76e9-47be-872d-eebe965a621f",
   "metadata": {},
   "outputs": [
    {
     "data": {
      "text/plain": [
       "0.9423076923076923"
      ]
     },
     "execution_count": 117,
     "metadata": {},
     "output_type": "execute_result"
    }
   ],
   "source": [
    "49/52"
   ]
  },
  {
   "cell_type": "code",
   "execution_count": 118,
   "id": "2de8c422-556f-4696-a8ae-bf90d4209497",
   "metadata": {},
   "outputs": [
    {
     "data": {
      "text/plain": [
       "1.0"
      ]
     },
     "execution_count": 118,
     "metadata": {},
     "output_type": "execute_result"
    }
   ],
   "source": [
    "50/(50+0+0)"
   ]
  },
  {
   "cell_type": "code",
   "execution_count": 119,
   "id": "31d867f8-7f39-41cc-b4df-b838db6015c3",
   "metadata": {},
   "outputs": [
    {
     "data": {
      "text/plain": [
       "0.94"
      ]
     },
     "execution_count": 119,
     "metadata": {},
     "output_type": "execute_result"
    }
   ],
   "source": [
    "47/(47+3)"
   ]
  },
  {
   "cell_type": "code",
   "execution_count": 120,
   "id": "180a31a8-4907-4aa6-8313-64ec061c4454",
   "metadata": {},
   "outputs": [
    {
     "data": {
      "text/plain": [
       "0.98"
      ]
     },
     "execution_count": 120,
     "metadata": {},
     "output_type": "execute_result"
    }
   ],
   "source": [
    "49/50"
   ]
  },
  {
   "cell_type": "markdown",
   "id": "f21d2d19-7df6-4871-98ae-fea02635a25a",
   "metadata": {},
   "source": [
    "# Date-> 27/11/2022 :Lecture\n"
   ]
  },
  {
   "cell_type": "markdown",
   "id": "4de89118-e184-4011-bf92-db12f5000cfb",
   "metadata": {},
   "source": [
    "# Confusion Metrix of Binary classification"
   ]
  },
  {
   "cell_type": "code",
   "execution_count": 121,
   "id": "daef1d43-91c1-4d4a-9b6a-963c0dfe9172",
   "metadata": {},
   "outputs": [],
   "source": [
    "import pandas as pd"
   ]
  },
  {
   "cell_type": "code",
   "execution_count": 122,
   "id": "b53542f2-7a2e-48dc-927b-8646ec22550f",
   "metadata": {},
   "outputs": [],
   "source": [
    "binary_fruit=pd.read_csv(\"citrus.csv\")"
   ]
  },
  {
   "cell_type": "code",
   "execution_count": 123,
   "id": "cc877472-b76c-450b-b52a-833cb6c952a2",
   "metadata": {},
   "outputs": [
    {
     "data": {
      "text/html": [
       "<div>\n",
       "<style scoped>\n",
       "    .dataframe tbody tr th:only-of-type {\n",
       "        vertical-align: middle;\n",
       "    }\n",
       "\n",
       "    .dataframe tbody tr th {\n",
       "        vertical-align: top;\n",
       "    }\n",
       "\n",
       "    .dataframe thead th {\n",
       "        text-align: right;\n",
       "    }\n",
       "</style>\n",
       "<table border=\"1\" class=\"dataframe\">\n",
       "  <thead>\n",
       "    <tr style=\"text-align: right;\">\n",
       "      <th></th>\n",
       "      <th>name</th>\n",
       "      <th>diameter</th>\n",
       "      <th>weight</th>\n",
       "      <th>red</th>\n",
       "      <th>green</th>\n",
       "      <th>blue</th>\n",
       "    </tr>\n",
       "  </thead>\n",
       "  <tbody>\n",
       "    <tr>\n",
       "      <th>0</th>\n",
       "      <td>orange</td>\n",
       "      <td>2.96</td>\n",
       "      <td>86.76</td>\n",
       "      <td>172</td>\n",
       "      <td>85</td>\n",
       "      <td>2</td>\n",
       "    </tr>\n",
       "    <tr>\n",
       "      <th>1</th>\n",
       "      <td>orange</td>\n",
       "      <td>3.91</td>\n",
       "      <td>88.05</td>\n",
       "      <td>166</td>\n",
       "      <td>78</td>\n",
       "      <td>3</td>\n",
       "    </tr>\n",
       "    <tr>\n",
       "      <th>2</th>\n",
       "      <td>orange</td>\n",
       "      <td>4.42</td>\n",
       "      <td>95.17</td>\n",
       "      <td>156</td>\n",
       "      <td>81</td>\n",
       "      <td>2</td>\n",
       "    </tr>\n",
       "    <tr>\n",
       "      <th>3</th>\n",
       "      <td>orange</td>\n",
       "      <td>4.47</td>\n",
       "      <td>95.60</td>\n",
       "      <td>163</td>\n",
       "      <td>81</td>\n",
       "      <td>4</td>\n",
       "    </tr>\n",
       "    <tr>\n",
       "      <th>4</th>\n",
       "      <td>orange</td>\n",
       "      <td>4.48</td>\n",
       "      <td>95.76</td>\n",
       "      <td>161</td>\n",
       "      <td>72</td>\n",
       "      <td>9</td>\n",
       "    </tr>\n",
       "    <tr>\n",
       "      <th>...</th>\n",
       "      <td>...</td>\n",
       "      <td>...</td>\n",
       "      <td>...</td>\n",
       "      <td>...</td>\n",
       "      <td>...</td>\n",
       "      <td>...</td>\n",
       "    </tr>\n",
       "    <tr>\n",
       "      <th>9995</th>\n",
       "      <td>grapefruit</td>\n",
       "      <td>15.35</td>\n",
       "      <td>253.89</td>\n",
       "      <td>149</td>\n",
       "      <td>77</td>\n",
       "      <td>20</td>\n",
       "    </tr>\n",
       "    <tr>\n",
       "      <th>9996</th>\n",
       "      <td>grapefruit</td>\n",
       "      <td>15.41</td>\n",
       "      <td>254.67</td>\n",
       "      <td>148</td>\n",
       "      <td>68</td>\n",
       "      <td>7</td>\n",
       "    </tr>\n",
       "    <tr>\n",
       "      <th>9997</th>\n",
       "      <td>grapefruit</td>\n",
       "      <td>15.59</td>\n",
       "      <td>256.50</td>\n",
       "      <td>168</td>\n",
       "      <td>82</td>\n",
       "      <td>20</td>\n",
       "    </tr>\n",
       "    <tr>\n",
       "      <th>9998</th>\n",
       "      <td>grapefruit</td>\n",
       "      <td>15.92</td>\n",
       "      <td>260.14</td>\n",
       "      <td>142</td>\n",
       "      <td>72</td>\n",
       "      <td>11</td>\n",
       "    </tr>\n",
       "    <tr>\n",
       "      <th>9999</th>\n",
       "      <td>grapefruit</td>\n",
       "      <td>16.45</td>\n",
       "      <td>261.51</td>\n",
       "      <td>152</td>\n",
       "      <td>74</td>\n",
       "      <td>2</td>\n",
       "    </tr>\n",
       "  </tbody>\n",
       "</table>\n",
       "<p>10000 rows × 6 columns</p>\n",
       "</div>"
      ],
      "text/plain": [
       "            name  diameter  weight  red  green  blue\n",
       "0         orange      2.96   86.76  172     85     2\n",
       "1         orange      3.91   88.05  166     78     3\n",
       "2         orange      4.42   95.17  156     81     2\n",
       "3         orange      4.47   95.60  163     81     4\n",
       "4         orange      4.48   95.76  161     72     9\n",
       "...          ...       ...     ...  ...    ...   ...\n",
       "9995  grapefruit     15.35  253.89  149     77    20\n",
       "9996  grapefruit     15.41  254.67  148     68     7\n",
       "9997  grapefruit     15.59  256.50  168     82    20\n",
       "9998  grapefruit     15.92  260.14  142     72    11\n",
       "9999  grapefruit     16.45  261.51  152     74     2\n",
       "\n",
       "[10000 rows x 6 columns]"
      ]
     },
     "execution_count": 123,
     "metadata": {},
     "output_type": "execute_result"
    }
   ],
   "source": [
    "binary_fruit"
   ]
  },
  {
   "cell_type": "code",
   "execution_count": 124,
   "id": "71926107-3ce4-47dc-baed-c41198912089",
   "metadata": {},
   "outputs": [],
   "source": [
    "X=binary_fruit.iloc[:,[1,2]].values    # feature extraction and conversion into 2D array"
   ]
  },
  {
   "cell_type": "code",
   "execution_count": 125,
   "id": "ad160a3f-6135-4938-8092-3f98e61f9df8",
   "metadata": {},
   "outputs": [
    {
     "data": {
      "text/plain": [
       "array([[  2.96,  86.76],\n",
       "       [  3.91,  88.05],\n",
       "       [  4.42,  95.17],\n",
       "       ...,\n",
       "       [ 15.59, 256.5 ],\n",
       "       [ 15.92, 260.14],\n",
       "       [ 16.45, 261.51]])"
      ]
     },
     "execution_count": 125,
     "metadata": {},
     "output_type": "execute_result"
    }
   ],
   "source": [
    "X"
   ]
  },
  {
   "cell_type": "code",
   "execution_count": 126,
   "id": "71d8a3f8-1c09-4fbd-837a-b8b475b234bf",
   "metadata": {},
   "outputs": [],
   "source": [
    "y= binary_fruit.iloc[:,0].values    # target extraction and conversion into 1D array"
   ]
  },
  {
   "cell_type": "code",
   "execution_count": 127,
   "id": "d4abecf1-e21a-402e-87ac-3258c82f03dd",
   "metadata": {},
   "outputs": [
    {
     "data": {
      "text/plain": [
       "array(['orange', 'orange', 'orange', ..., 'grapefruit', 'grapefruit',\n",
       "       'grapefruit'], dtype=object)"
      ]
     },
     "execution_count": 127,
     "metadata": {},
     "output_type": "execute_result"
    }
   ],
   "source": [
    "y"
   ]
  },
  {
   "cell_type": "code",
   "execution_count": 128,
   "id": "7ece5b5b-d40c-4574-ae59-ca8f4fadf9c2",
   "metadata": {},
   "outputs": [
    {
     "data": {
      "text/plain": [
       "orange        5000\n",
       "grapefruit    5000\n",
       "Name: name, dtype: int64"
      ]
     },
     "execution_count": 128,
     "metadata": {},
     "output_type": "execute_result"
    }
   ],
   "source": [
    "binary_fruit.name.value_counts()   # Checking all sample in the name column belongs to specific class\n",
    "# binary_fruit['name'].value_counts()   2nd rule to get the specific member in a column"
   ]
  },
  {
   "cell_type": "code",
   "execution_count": 129,
   "id": "8deaca97-ef55-4612-8741-bf43b79374b0",
   "metadata": {},
   "outputs": [],
   "source": [
    "from sklearn.linear_model import LogisticRegression"
   ]
  },
  {
   "cell_type": "code",
   "execution_count": 130,
   "id": "cf0142d3-460c-4820-8b45-28a5d7f6f298",
   "metadata": {},
   "outputs": [],
   "source": [
    "model1=LogisticRegression(max_iter=500)  #untrained model"
   ]
  },
  {
   "cell_type": "code",
   "execution_count": 131,
   "id": "8cdd39ee-aa71-4451-b44a-a93bb45e0e9c",
   "metadata": {},
   "outputs": [
    {
     "data": {
      "text/plain": [
       "LogisticRegression(max_iter=500)"
      ]
     },
     "execution_count": 131,
     "metadata": {},
     "output_type": "execute_result"
    }
   ],
   "source": [
    "model1.fit(X,y)"
   ]
  },
  {
   "cell_type": "code",
   "execution_count": 132,
   "id": "47fe2e7f-e646-4800-9301-aa3becfbd37c",
   "metadata": {},
   "outputs": [],
   "source": [
    "sample=[[4.47,95.6]]  # assuming a sample "
   ]
  },
  {
   "cell_type": "code",
   "execution_count": 133,
   "id": "89a90901-013c-48a3-9fc1-e8bd87550d79",
   "metadata": {},
   "outputs": [
    {
     "data": {
      "text/plain": [
       "array(['orange'], dtype=object)"
      ]
     },
     "execution_count": 133,
     "metadata": {},
     "output_type": "execute_result"
    }
   ],
   "source": [
    "model1.predict(sample)"
   ]
  },
  {
   "cell_type": "code",
   "execution_count": 134,
   "id": "9413c129-cbe1-4aab-8e31-84c1d1790609",
   "metadata": {},
   "outputs": [
    {
     "data": {
      "text/plain": [
       "array([[7.06693982e-08, 9.99999929e-01]])"
      ]
     },
     "execution_count": 134,
     "metadata": {},
     "output_type": "execute_result"
    }
   ],
   "source": [
    "model1.predict_proba(sample)"
   ]
  },
  {
   "cell_type": "code",
   "execution_count": 135,
   "id": "d31e64dd-ee67-4dba-8db8-4451f10cf9fc",
   "metadata": {},
   "outputs": [],
   "source": [
    "y_pred=model1.predict(X)"
   ]
  },
  {
   "cell_type": "code",
   "execution_count": 136,
   "id": "da9a90dc-6034-4397-98b7-7d8541af9048",
   "metadata": {},
   "outputs": [],
   "source": [
    "from sklearn.metrics import confusion_matrix,recall_score, classification_report,precision_score"
   ]
  },
  {
   "cell_type": "code",
   "execution_count": 137,
   "id": "97e04536-eb1c-4eab-b49e-83bf74e25d5b",
   "metadata": {},
   "outputs": [
    {
     "data": {
      "text/plain": [
       "array([[4986,   14],\n",
       "       [ 407, 4593]], dtype=int64)"
      ]
     },
     "execution_count": 137,
     "metadata": {},
     "output_type": "execute_result"
    }
   ],
   "source": [
    "confusion_matrix(y,y_pred)"
   ]
  },
  {
   "cell_type": "code",
   "execution_count": 138,
   "id": "3b143601-f7f8-40e9-bc70-c078c5130a2e",
   "metadata": {},
   "outputs": [
    {
     "name": "stdout",
     "output_type": "stream",
     "text": [
      "              precision    recall  f1-score   support\n",
      "\n",
      "  grapefruit       0.92      1.00      0.96      5000\n",
      "      orange       1.00      0.92      0.96      5000\n",
      "\n",
      "    accuracy                           0.96     10000\n",
      "   macro avg       0.96      0.96      0.96     10000\n",
      "weighted avg       0.96      0.96      0.96     10000\n",
      "\n"
     ]
    }
   ],
   "source": [
    "print(classification_report(y,y_pred))"
   ]
  },
  {
   "cell_type": "code",
   "execution_count": 139,
   "id": "a245a8bb-c859-4110-8db7-3cc134e08d04",
   "metadata": {},
   "outputs": [
    {
     "data": {
      "text/plain": [
       "0.9245318004821065"
      ]
     },
     "execution_count": 139,
     "metadata": {},
     "output_type": "execute_result"
    }
   ],
   "source": [
    "4986/(4986+407)  #precision score of grapefruit"
   ]
  },
  {
   "cell_type": "code",
   "execution_count": 140,
   "id": "28852d8f-0559-4d37-8722-e10dbdefb716",
   "metadata": {},
   "outputs": [
    {
     "data": {
      "text/plain": [
       "0.9969611460820491"
      ]
     },
     "execution_count": 140,
     "metadata": {},
     "output_type": "execute_result"
    }
   ],
   "source": [
    "4593/(4593+14)   #precision score of orange"
   ]
  },
  {
   "cell_type": "code",
   "execution_count": 141,
   "id": "0cfe3c58-9d45-4884-9d4f-afbfd1a66086",
   "metadata": {},
   "outputs": [],
   "source": [
    "from sklearn.metrics import recall_score"
   ]
  },
  {
   "cell_type": "code",
   "execution_count": 142,
   "id": "3b2d30ca-5dc9-4641-9ec5-26872e1d6cd7",
   "metadata": {},
   "outputs": [
    {
     "data": {
      "text/plain": [
       "array([0.9972, 0.9186])"
      ]
     },
     "execution_count": 142,
     "metadata": {},
     "output_type": "execute_result"
    }
   ],
   "source": [
    "recall_score(y,y_pred,average=None)"
   ]
  },
  {
   "cell_type": "code",
   "execution_count": 143,
   "id": "01360454-39c0-4af6-ac6e-1fdbdae65269",
   "metadata": {},
   "outputs": [
    {
     "data": {
      "text/plain": [
       "array([0.9245318 , 0.99696115])"
      ]
     },
     "execution_count": 143,
     "metadata": {},
     "output_type": "execute_result"
    }
   ],
   "source": [
    "precision_score(y,y_pred,average=None)"
   ]
  },
  {
   "cell_type": "code",
   "execution_count": 144,
   "id": "34134016-488f-4cd0-ad63-fac151d8ef52",
   "metadata": {},
   "outputs": [],
   "source": [
    "from sklearn.metrics import accuracy_score"
   ]
  },
  {
   "cell_type": "code",
   "execution_count": 145,
   "id": "eb9ff1b2-15de-4604-bfca-345db47c68d5",
   "metadata": {},
   "outputs": [
    {
     "data": {
      "text/plain": [
       "0.9579"
      ]
     },
     "execution_count": 145,
     "metadata": {},
     "output_type": "execute_result"
    }
   ],
   "source": [
    "accuracy_score(y,y_pred)"
   ]
  },
  {
   "cell_type": "markdown",
   "id": "f8b90125-81cf-49f8-9271-9c11cb120d4f",
   "metadata": {},
   "source": [
    "# Model training using KNN"
   ]
  },
  {
   "cell_type": "code",
   "execution_count": 147,
   "id": "79d05007-c604-4e98-9674-3fa799d1bdc8",
   "metadata": {},
   "outputs": [],
   "source": [
    "from sklearn.neighbors import KNeighborsClassifier"
   ]
  },
  {
   "cell_type": "code",
   "execution_count": 149,
   "id": "8f5de22a-e130-4104-b300-e7d6910a81be",
   "metadata": {},
   "outputs": [],
   "source": [
    "model2=KNeighborsClassifier()  # untrained model"
   ]
  },
  {
   "cell_type": "code",
   "execution_count": 150,
   "id": "32600f30-483d-4a3a-97ee-4242f0b19400",
   "metadata": {},
   "outputs": [
    {
     "data": {
      "text/plain": [
       "KNeighborsClassifier()"
      ]
     },
     "execution_count": 150,
     "metadata": {},
     "output_type": "execute_result"
    }
   ],
   "source": [
    "model2.fit(X,y)"
   ]
  },
  {
   "cell_type": "code",
   "execution_count": 151,
   "id": "fc4a4ba6-689a-4ac6-8442-92e228439283",
   "metadata": {},
   "outputs": [
    {
     "data": {
      "text/plain": [
       "array(['orange'], dtype=object)"
      ]
     },
     "execution_count": 151,
     "metadata": {},
     "output_type": "execute_result"
    }
   ],
   "source": [
    "model2.predict(sample)"
   ]
  },
  {
   "cell_type": "code",
   "execution_count": 152,
   "id": "8e88a0c3-a5d4-4fa3-bda1-364960859643",
   "metadata": {},
   "outputs": [
    {
     "data": {
      "text/plain": [
       "array([[0., 1.]])"
      ]
     },
     "execution_count": 152,
     "metadata": {},
     "output_type": "execute_result"
    }
   ],
   "source": [
    "model2.predict_proba(sample)"
   ]
  },
  {
   "cell_type": "code",
   "execution_count": 153,
   "id": "16369b9e-3929-4d47-a578-6968a90d1990",
   "metadata": {},
   "outputs": [],
   "source": [
    "y_pred_Knn=model2.predict(X)"
   ]
  },
  {
   "cell_type": "code",
   "execution_count": 157,
   "id": "aa2d9f59-d17d-4a1a-8a48-cc961c6e71ed",
   "metadata": {},
   "outputs": [],
   "source": [
    "from sklearn.metrics import classification_report,confusion_matrix"
   ]
  },
  {
   "cell_type": "code",
   "execution_count": 158,
   "id": "b5d8b15f-d045-4e46-9aa6-a4be43a612de",
   "metadata": {},
   "outputs": [
    {
     "name": "stdout",
     "output_type": "stream",
     "text": [
      "              precision    recall  f1-score   support\n",
      "\n",
      "  grapefruit       0.97      0.99      0.98      5000\n",
      "      orange       0.99      0.97      0.98      5000\n",
      "\n",
      "    accuracy                           0.98     10000\n",
      "   macro avg       0.98      0.98      0.98     10000\n",
      "weighted avg       0.98      0.98      0.98     10000\n",
      "\n"
     ]
    }
   ],
   "source": [
    "print(classification_report(y,y_pred_Knn))"
   ]
  },
  {
   "cell_type": "code",
   "execution_count": 159,
   "id": "469623ed-baae-4432-97a3-baace2fdf86d",
   "metadata": {},
   "outputs": [
    {
     "data": {
      "text/plain": [
       "array([[4969,   31],\n",
       "       [ 137, 4863]], dtype=int64)"
      ]
     },
     "execution_count": 159,
     "metadata": {},
     "output_type": "execute_result"
    }
   ],
   "source": [
    "confusion_matrix(y,y_pred_Knn)"
   ]
  },
  {
   "cell_type": "code",
   "execution_count": null,
   "id": "680b136d-a707-4964-9427-c2bd83766522",
   "metadata": {},
   "outputs": [],
   "source": []
  }
 ],
 "metadata": {
  "kernelspec": {
   "display_name": "Python 3 (ipykernel)",
   "language": "python",
   "name": "python3"
  },
  "language_info": {
   "codemirror_mode": {
    "name": "ipython",
    "version": 3
   },
   "file_extension": ".py",
   "mimetype": "text/x-python",
   "name": "python",
   "nbconvert_exporter": "python",
   "pygments_lexer": "ipython3",
   "version": "3.9.12"
  }
 },
 "nbformat": 4,
 "nbformat_minor": 5
}
