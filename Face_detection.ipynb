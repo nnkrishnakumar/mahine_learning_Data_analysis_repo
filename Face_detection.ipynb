{
 "cells": [
  {
   "cell_type": "code",
   "execution_count": 13,
   "id": "6024017d-59a8-47ef-9c6e-b590c7d1cc23",
   "metadata": {},
   "outputs": [],
   "source": [
    "import pytube as yt"
   ]
  },
  {
   "cell_type": "code",
   "execution_count": 14,
   "id": "5261dc68-8cfd-4ed6-8411-5f6458511a86",
   "metadata": {},
   "outputs": [
    {
     "data": {
      "text/plain": [
       "'C:\\\\Users\\\\Ducat\\\\Desktop\\\\AI_batch\\\\we_830_ML\\\\Sofia Reyes - 1 2 3 (feat Jason Derulo & De La Ghetto) [Official Video].mp4'"
      ]
     },
     "execution_count": 14,
     "metadata": {},
     "output_type": "execute_result"
    }
   ],
   "source": [
    "url=\"https://www.youtube.com/watch?v=p03TIGqEc8o\"\n",
    "vid=yt.YouTube(url)\n",
    "vid=vid.streams.get_lowest_resolution()\n",
    "vid.download()"
   ]
  },
  {
   "cell_type": "code",
   "execution_count": 29,
   "id": "969ba116-f8c4-4801-8d4b-33a55f3d2644",
   "metadata": {},
   "outputs": [],
   "source": [
    "import cv2\n",
    "vdo=cv2.VideoCapture(\"Sofia Reyes - 1 2 3 (feat Jason Derulo & De La Ghetto) [Official Video].mp4\")\n",
    "face_model=cv2.CascadeClassifier(r\"C:\\Users\\Ducat\\Desktop\\dataset1\\trained model\\haarcascade_frontalface_alt.xml\")\n",
    "model_eye=cv2.CascadeClassifier(r\"C:\\Users\\Ducat\\Desktop\\dataset1\\trained model\\haarcascade_eye.xml\")\n",
    "# vdo=cv2.VideoCapture(0)\n",
    "while True:\n",
    "    flag,img=vdo.read()   # flag(boolean =True, False), img= 3D array(img)\n",
    "    if flag==False:\n",
    "        break    \n",
    "    gray=cv2.cvtColor(img,cv2.COLOR_BGR2GRAY)\n",
    "    face=face_model.detectMultiScale(gray,minNeighbors=7)\n",
    "    cv2.putText(img,\"Press k to stop video...\",(10,22),cv2.FONT_HERSHEY_SIMPLEX,1,(0,0,255),2)\n",
    "    for x,y,w,h in face:\n",
    "        cv2.rectangle(img,(x,y,w,h),(255,0,0),2)\n",
    "        face=img[y:y+h,x:x+w]\n",
    "        eye=model_eye.detectMultiScale(face,minNeighbors=10)\n",
    "        for ex,ey,ew,eh in eye:\n",
    "            cv2.rectangle(img,(x+ex,y+ey,ew,eh),(0,0,255),2)\n",
    "    \n",
    "    cv2.imshow(\"Frame\",img)\n",
    "    \n",
    "    key=cv2.waitKey(50)   # it resturn ascii value\n",
    "    if key==ord('k'):   \n",
    "        break\n",
    "cv2.destroyAllWindows()\n",
    "vdo.release()"
   ]
  },
  {
   "cell_type": "code",
   "execution_count": 5,
   "id": "40a6f63e-e9e4-40a9-8637-77c8e1a04ce4",
   "metadata": {},
   "outputs": [
    {
     "data": {
      "text/plain": [
       "107"
      ]
     },
     "execution_count": 5,
     "metadata": {},
     "output_type": "execute_result"
    }
   ],
   "source": [
    "ord('k')"
   ]
  },
  {
   "cell_type": "code",
   "execution_count": null,
   "id": "54012b35-87c2-4e86-9663-17819620f6c2",
   "metadata": {},
   "outputs": [],
   "source": []
  }
 ],
 "metadata": {
  "kernelspec": {
   "display_name": "Python 3 (ipykernel)",
   "language": "python",
   "name": "python3"
  },
  "language_info": {
   "codemirror_mode": {
    "name": "ipython",
    "version": 3
   },
   "file_extension": ".py",
   "mimetype": "text/x-python",
   "name": "python",
   "nbconvert_exporter": "python",
   "pygments_lexer": "ipython3",
   "version": "3.9.13"
  }
 },
 "nbformat": 4,
 "nbformat_minor": 5
}
