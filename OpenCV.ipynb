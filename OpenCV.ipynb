{
 "cells": [
  {
   "cell_type": "markdown",
   "id": "8ebb973d-d2b5-4e0a-bf04-5aea003866aa",
   "metadata": {},
   "source": [
    "machine learning: \n",
    "    \n",
    "    >Computer Vision \n",
    "    \n",
    "    >NLP(Natural Language Process)\n",
    "    "
   ]
  },
  {
   "cell_type": "markdown",
   "id": "7a96d6c3-a33c-48ed-8d18-2c7480d9a94d",
   "metadata": {},
   "source": [
    "# Computer Vision"
   ]
  },
  {
   "cell_type": "code",
   "execution_count": 1,
   "id": "acf20717-e8fe-4891-9c37-fbb1682ac010",
   "metadata": {},
   "outputs": [],
   "source": [
    "# machine Learning tool for computer vision is OpenCv(open source)"
   ]
  },
  {
   "cell_type": "markdown",
   "id": "1b927e23-82ee-4bc4-b637-a76a3c1994d5",
   "metadata": {},
   "source": [
    "pip install opencv-python"
   ]
  },
  {
   "cell_type": "code",
   "execution_count": 2,
   "id": "3b8ff78a-7b8d-43aa-8d5d-beded141d2d6",
   "metadata": {},
   "outputs": [],
   "source": [
    "import cv2"
   ]
  },
  {
   "cell_type": "code",
   "execution_count": null,
   "id": "fb23b186-687a-4274-acb5-bf287998a36a",
   "metadata": {},
   "outputs": [
    {
     "name": "stdout",
     "output_type": "stream",
     "text": [
      "3 [107 119 124]\n"
     ]
    }
   ],
   "source": [
    "img=cv2.imread(\"C:\\\\Users\\Ducat\\Desktop\\AI_batch\\sachin-tendulkar.webp\")\n",
    "print(len(img[0][0]),img[0][0])\n",
    "cv2.imshow('Sachine',img)\n",
    "cv2.waitKey()\n",
    "cv2.destroyAllWindows()"
   ]
  },
  {
   "cell_type": "code",
   "execution_count": null,
   "id": "51f12016-5c3e-40b8-b366-74de62ea54e8",
   "metadata": {},
   "outputs": [],
   "source": [
    "img=cv2.imread(\"C:\\\\Users\\Ducat\\Desktop\\AI_batch\\sachin-tendulkar.webp\")\n",
    "img=cv2.cvtColor(img,cv2.COLOR_BGR2GRAY)\n",
    "print(img[0],len(img[0]))\n",
    "cv2.imshow('Sachine',img)\n",
    "cv2.waitKey(5000)\n",
    "cv2.destroyAllWindows()"
   ]
  },
  {
   "cell_type": "code",
   "execution_count": null,
   "id": "63dd2c48-430d-4fc4-8101-5995dd5f5c67",
   "metadata": {},
   "outputs": [],
   "source": [
    "img=cv2.imread(\"C:\\\\Users\\Ducat\\Desktop\\AI_batch\\sachin-tendulkar.webp\")\n",
    "img=cv2.cvtColor(img,cv2.COLOR_BGR2GRAY)\n",
    "print(img[0],len(img[0]))\n",
    "cv2.imshow('Sachine',img)\n",
    "cv2.waitKey(5000)\n",
    "cv2.destroyAllWindows()"
   ]
  },
  {
   "cell_type": "code",
   "execution_count": null,
   "id": "f0ba3830-12aa-49ef-a543-7a25c3ba2e45",
   "metadata": {},
   "outputs": [],
   "source": [
    "img=cv2.imread(\"C:\\\\Users\\Ducat\\Desktop\\AI_batch\\sachin-tendulkar.webp\")\n",
    "img=cv2.blur(img,(1,30))\n",
    "\n",
    "cv2.imshow('Sachine',img)\n",
    "\n",
    "cv2.waitKey(5000)\n",
    "cv2.destroyAllWindows()"
   ]
  },
  {
   "cell_type": "code",
   "execution_count": null,
   "id": "f6dd068d-1ca8-4872-a47f-03a1f189db1e",
   "metadata": {},
   "outputs": [],
   "source": [
    "img=cv2.imread(\"C:\\\\Users\\Ducat\\Desktop\\AI_batch\\sachin-tendulkar.webp\")\n",
    "\n",
    "img=cv2.resize(img,(400,200))\n",
    "cv2.imshow('Sachine',img)\n",
    "\n",
    "cv2.waitKey(5000)\n",
    "cv2.destroyAllWindows()"
   ]
  },
  {
   "cell_type": "code",
   "execution_count": null,
   "id": "be52494c-ec72-4861-9ea1-95d254e59400",
   "metadata": {},
   "outputs": [],
   "source": [
    "img=cv2.imread(\"C:\\\\Users\\Ducat\\Desktop\\AI_batch\\sachin-tendulkar.webp\")\n",
    "\n",
    "img=cv2.flip(img,-1,-1)\n",
    "cv2.imshow('Sachine',img)\n",
    "\n",
    "cv2.waitKey(5000)\n",
    "cv2.destroyAllWindows()"
   ]
  },
  {
   "cell_type": "code",
   "execution_count": null,
   "id": "bc852f6e-40de-4890-9a2f-39bb57f9f44a",
   "metadata": {},
   "outputs": [],
   "source": [
    "img=cv2.imread(\"C:\\\\Users\\Ducat\\Desktop\\AI_batch\\sachin-tendulkar.webp\",0)\n",
    "cv2.imshow('Sachine',img)\n",
    "cv2.waitKey(5000)\n",
    "cv2.destroyAllWindows()"
   ]
  },
  {
   "cell_type": "code",
   "execution_count": null,
   "id": "436da53f-c029-420b-92a7-ca006bb7a29a",
   "metadata": {},
   "outputs": [],
   "source": [
    "img=cv2.imread(\"C:\\\\Users\\Ducat\\Desktop\\AI_batch\\sachin-tendulkar.webp\")\n",
    "img1=cv2.flip(img,0)\n",
    "cv2.imshow('Sachine_orig',img)\n",
    "cv2.imshow('Sachine_dup',img1)\n",
    "cv2.waitKey()\n",
    "cv2.destroyAllWindows()"
   ]
  },
  {
   "cell_type": "code",
   "execution_count": null,
   "id": "fc6c5a68-6025-44ef-970e-20a888d3f50b",
   "metadata": {},
   "outputs": [],
   "source": [
    "img=cv2.imread(\"C:\\\\Users\\Ducat\\Desktop\\AI_batch\\sachin-tendulkar.webp\")\n",
    "img1=cv2.flip(img,0)\n",
    "cv2.imshow('Sachine_orig',img)\n",
    "cv2.imshow('Sachine_dup',img1)\n",
    "cv2.waitKey()\n",
    "cv2.destroyAllWindows()"
   ]
  },
  {
   "cell_type": "code",
   "execution_count": null,
   "id": "7acb954c-abad-4758-950a-10c0778926bf",
   "metadata": {},
   "outputs": [],
   "source": [
    "img=cv2.imread(\"kate.jpg\")\n",
    "img=cv2.convertScaleAbs(img,alpha=3,beta=0)\n",
    "cv2.imshow('Sachine_orig',img)\n",
    "cv2.waitKey()\n",
    "cv2.destroyAllWindows()"
   ]
  },
  {
   "cell_type": "code",
   "execution_count": null,
   "id": "543ed056-2ab6-49df-b3da-33df2f116ba2",
   "metadata": {},
   "outputs": [],
   "source": [
    "import cv2\n",
    "kate=cv2.imread(\"kate.jpg\")\n",
    "jack=cv2.imread(\"Jack.jfif\")\n",
    "kate=cv2.resize(kate,(300,300))\n",
    "jack=cv2.resize(jack,(300,300))\n",
    "# img=cv2.add(kate,jack)\n",
    "dest = cv2.addWeighted(kate, 0.1, jack, 0.7,0.9)\n",
    "cv2.imshow('Sachine_orig',dest)\n",
    "cv2.waitKey()\n",
    "cv2.destroyAllWindows()"
   ]
  },
  {
   "cell_type": "code",
   "execution_count": null,
   "id": "077d22cc-8bf3-4e09-b423-254b53004d76",
   "metadata": {},
   "outputs": [],
   "source": [
    "img=cv2.imread(\"kate.jpg\")\n",
    "red,green,blue=cv2.split(img)\n",
    "cv2.imshow(\"red_kate\",red)\n",
    "cv2.waitKey()\n",
    "cv2.destroyAllWindows()"
   ]
  },
  {
   "cell_type": "code",
   "execution_count": null,
   "id": "6d13349a-e752-4df0-970c-1f84a1f23be0",
   "metadata": {},
   "outputs": [],
   "source": [
    "img=cv2.imread(\"kate.jpg\")\n",
    "red,green,blue=cv2.split(img)\n",
    "cv2.imshow(\"red_kate\",green)\n",
    "cv2.waitKey()\n",
    "cv2.destroyAllWindows()"
   ]
  },
  {
   "cell_type": "code",
   "execution_count": null,
   "id": "26c7aba8-fac0-4647-b016-7d5b3aa27b6f",
   "metadata": {},
   "outputs": [],
   "source": [
    "img=cv2.imread(\"kate.jpg\")\n",
    "red,green,blue=cv2.split(img)\n",
    "cv2.imshow(\"red_kate\",green)\n",
    "cv2.waitKey()\n",
    "cv2.destroyAllWindows()"
   ]
  },
  {
   "cell_type": "code",
   "execution_count": null,
   "id": "b8ec59ca-7d89-4f30-8744-4358239791a9",
   "metadata": {},
   "outputs": [],
   "source": [
    "blue\n",
    "blue.flatten()"
   ]
  },
  {
   "cell_type": "code",
   "execution_count": null,
   "id": "9b56044f-204f-435d-872b-cbc4437a1aa9",
   "metadata": {},
   "outputs": [],
   "source": [
    "img=cv2.imread(\"C:\\\\Users\\Ducat\\Desktop\\AI_batch\\sachin-tendulkar.webp\")\n",
    "print(img.shape)\n",
    "cv2.putText(img,\"Sachine\",(50,40),cv2.FONT_HERSHEY_SIMPLEX,1,(111,212,123),2)\n",
    "cv2.rectangle(img,(50,50),(150,170),(255,0,0),2)\n",
    "cv2.imshow('Sachine_orig',img)\n",
    "cv2.waitKey()\n",
    "cv2.destroyAllWindows()"
   ]
  },
  {
   "cell_type": "code",
   "execution_count": null,
   "id": "9c471ebf-1552-42f7-870f-4c5a6f499f1a",
   "metadata": {},
   "outputs": [],
   "source": [
    "import glob\n",
    "import cv2"
   ]
  },
  {
   "cell_type": "code",
   "execution_count": null,
   "id": "ab7bced9-968e-4b45-94ab-edbce0a34e12",
   "metadata": {},
   "outputs": [],
   "source": [
    "male_img_path=glob.glob(r\"C:\\Users\\Ducat\\Desktop\\dataset1\\train\\male\\*.*\")"
   ]
  },
  {
   "cell_type": "code",
   "execution_count": null,
   "id": "2ce99eb9-75de-4991-92bf-fa6817f29019",
   "metadata": {},
   "outputs": [],
   "source": [
    "female_img_path=glob.glob(r\"C:\\Users\\Ducat\\Desktop\\dataset1\\train\\female\\*.*\")"
   ]
  },
  {
   "cell_type": "code",
   "execution_count": null,
   "id": "738cd9ba-4efa-49e6-993c-374cbe001e80",
   "metadata": {},
   "outputs": [],
   "source": [
    "len(female_img_path)"
   ]
  },
  {
   "cell_type": "code",
   "execution_count": null,
   "id": "6510b411-f28d-4526-a806-56c6869f169d",
   "metadata": {},
   "outputs": [],
   "source": [
    "len(male_img_path)"
   ]
  },
  {
   "cell_type": "code",
   "execution_count": null,
   "id": "c56a8c8f-8a17-4612-898d-4d0f340b97a5",
   "metadata": {},
   "outputs": [],
   "source": [
    "a=1\n",
    "for i in male_img_path:\n",
    "    img=cv2.imread(i,0)\n",
    "    img=cv2.resize(img,(100,100))\n",
    "    cv2.imwrite(f\"datasets/male/{a}.png\",img)\n",
    "    a+=1\n",
    "    "
   ]
  },
  {
   "cell_type": "code",
   "execution_count": null,
   "id": "b5a5bbad-80e6-4011-9d3f-54ed2d9490d3",
   "metadata": {},
   "outputs": [],
   "source": [
    "a=1\n",
    "for i in female_img_path:\n",
    "    img=cv2.imread(i,0)\n",
    "    img=cv2.resize(img,(100,100))\n",
    "    cv2.imwrite(f\"datasets/female/{a}.png\",img)\n",
    "    a+=1\n",
    "    "
   ]
  },
  {
   "cell_type": "code",
   "execution_count": null,
   "id": "4a7fb4de-38c0-497c-a8f0-5c293a385d89",
   "metadata": {},
   "outputs": [],
   "source": [
    "X=[]\n",
    "y=[]\n",
    "for i in male_img_path:\n",
    "    img=cv2.imread(i,0)\n",
    "    img=cv2.resize(img,(100,100))\n",
    "    img=img.flatten()\n",
    "    X.append(img)\n",
    "    y.append(\"male\")\n",
    "    "
   ]
  },
  {
   "cell_type": "code",
   "execution_count": null,
   "id": "c84fc066-d05a-48c3-8b96-19f9c24b850b",
   "metadata": {},
   "outputs": [],
   "source": [
    "for i in female_img_path:\n",
    "    img=cv2.imread(i,0)\n",
    "    img=cv2.resize(img,(100,100))\n",
    "    img=img.flatten()\n",
    "    X.append(img)\n",
    "    y.append(\"female\")\n",
    "    "
   ]
  },
  {
   "cell_type": "code",
   "execution_count": null,
   "id": "c776115d-0094-4321-9182-b415e6de46a5",
   "metadata": {},
   "outputs": [],
   "source": [
    "len(X)"
   ]
  },
  {
   "cell_type": "code",
   "execution_count": null,
   "id": "b8f07c69-47a3-449e-a497-38a286f6bc31",
   "metadata": {},
   "outputs": [],
   "source": [
    "len(y)"
   ]
  },
  {
   "cell_type": "code",
   "execution_count": null,
   "id": "713d0b1c-692a-478d-99fe-bc3437a465b7",
   "metadata": {},
   "outputs": [],
   "source": [
    "from sklearn.linear_model import LogisticRegression\n",
    "from sklearn.preprocessing import MinMaxScaler"
   ]
  },
  {
   "cell_type": "code",
   "execution_count": null,
   "id": "a22f47a5-3bcf-4986-a958-fcc96b1bdefb",
   "metadata": {},
   "outputs": [],
   "source": [
    "sc=MinMaxScaler()\n",
    "X_sc=sc.fit_transform(X)\n",
    "model=LogisticRegression(max_iter=2000)\n"
   ]
  },
  {
   "cell_type": "code",
   "execution_count": null,
   "id": "d2b886ce-978a-42e4-a0a2-bff140fe08ee",
   "metadata": {},
   "outputs": [],
   "source": [
    "model.fit(X_sc,y)"
   ]
  },
  {
   "cell_type": "code",
   "execution_count": null,
   "id": "112122cf-4041-4cdd-b21c-a75871807446",
   "metadata": {},
   "outputs": [],
   "source": [
    "img=cv2.imread(\"C:\\\\Users\\Ducat\\Desktop\\AI_batch\\sachin-tendulkar.webp\",0)\n",
    "img=cv2.resize(img,(100,100))\n",
    "img=img.flatten()\n",
    "img=[img]\n",
    "print(img)"
   ]
  },
  {
   "cell_type": "code",
   "execution_count": null,
   "id": "56955e93-7281-4c8b-8ad4-2efb7582418b",
   "metadata": {},
   "outputs": [],
   "source": [
    "model.predict(img)"
   ]
  },
  {
   "cell_type": "code",
   "execution_count": null,
   "id": "085470fc-cfd9-42cd-b9e0-998cc6d835cb",
   "metadata": {},
   "outputs": [],
   "source": [
    "img=cv2.imread(\"C:\\\\Users\\Ducat\\Desktop\\AI_batch\\sachin-tendulkar.webp\",0)\n",
    "img=cv2.resize(img,(100,100))\n",
    "img=img.flatten()\n",
    "img=[img]\n",
    "img=sc.transform(img)\n",
    "print(img)"
   ]
  },
  {
   "cell_type": "code",
   "execution_count": null,
   "id": "6adec3d2-43d5-4dc2-9beb-9a389aecefd0",
   "metadata": {},
   "outputs": [],
   "source": [
    "model.predict(img)"
   ]
  },
  {
   "cell_type": "code",
   "execution_count": null,
   "id": "cf019514-b5af-414e-bbdc-09c54e37d18d",
   "metadata": {},
   "outputs": [],
   "source": [
    "pip install opencv-python\n"
   ]
  },
  {
   "cell_type": "code",
   "execution_count": null,
   "id": "edd8ae48-9eea-4900-a13c-e8432c1def8b",
   "metadata": {},
   "outputs": [],
   "source": [
    "import cv2\n",
    "img=cv2.imread(\"C:\\\\Users\\Ducat\\Desktop\\AI_batch\\sachin-tendulkar.webp\",0)\n",
    "\n",
    "model=cv2.CascadeClassifier(r\"C:\\Users\\Ducat\\Desktop\\dataset1\\trained model\\haarcascade_frontalface_alt.xml\")\n",
    "face=model.detectMultiScale(img)\n",
    "print(model)\n",
    "for x,y,w,h in face:\n",
    "    cv2.rectangle(img,(x,y,w,h),(255,0,0),2)\n",
    "cv2.imshow('Sachine_orig',img)\n",
    "cv2.waitKey()\n",
    "cv2.destroyAllWindows()"
   ]
  },
  {
   "cell_type": "code",
   "execution_count": null,
   "id": "f6988a7e-a644-41f6-95c8-3c70146936a6",
   "metadata": {},
   "outputs": [],
   "source": [
    "img=cv2.imread(\"C:\\\\Users\\Ducat\\Desktop\\AI_batch\\sachin-tendulkar.webp\")\n",
    "img2=cv2.cvtColor(img,cv2.COLOR_BGR2GRAY)\n",
    "model=cv2.CascadeClassifier(r\"C:\\Users\\Ducat\\Desktop\\dataset1\\trained model\\haarcascade_frontalface_alt.xml\")\n",
    "face=model.detectMultiScale(img2)\n",
    "for x,y,w,h in face:\n",
    "    cv2.rectangle(img,(x,y,w,h),(255,0,0),2)\n",
    "cv2.imshow('Sachine_orig',img)\n",
    "cv2.waitKey()\n",
    "cv2.destroyAllWindows()"
   ]
  },
  {
   "cell_type": "code",
   "execution_count": null,
   "id": "dcfe523f-3e7e-492e-9f9b-e98bd816c416",
   "metadata": {},
   "outputs": [],
   "source": [
    "img=cv2.imread(\"group2.jpg\")\n",
    "img2=cv2.cvtColor(img,cv2.COLOR_BGR2GRAY)\n",
    "model=cv2.CascadeClassifier(r\"C:\\Users\\Ducat\\Desktop\\dataset1\\trained model\\haarcascade_frontalface_alt.xml\")\n",
    "face=model.detectMultiScale(img2,minNeighbors=7,minSize=(10,10))\n",
    "for x,y,w,h in face:\n",
    "    cv2.rectangle(img,(x,y,w,h),(255,0,0),2)\n",
    "cv2.imshow('Image',img)\n",
    "cv2.waitKey()\n",
    "cv2.destroyAllWindows()"
   ]
  },
  {
   "cell_type": "code",
   "execution_count": null,
   "id": "0edb205d-9a37-4bb5-8dd7-f66314e29677",
   "metadata": {},
   "outputs": [],
   "source": [
    "img=cv2.imread(\"group2.jpg\")\n",
    "img2=cv2.cvtColor(img,cv2.COLOR_BGR2GRAY)\n",
    "model2=cv2.CascadeClassifier(r\"C:\\Users\\Ducat\\Desktop\\dataset1\\trained model\\haarcascade_eye.xml\")\n",
    "eye=model2.detectMultiScale(img2,scaleFactor=1.3)\n",
    "for x,y,w,h in eye:\n",
    "    cv2.rectangle(img,(x,y,w,h),(255,0,0),2)\n",
    "cv2.imshow('Image',img)\n",
    "cv2.waitKey()\n",
    "cv2.destroyAllWindows()"
   ]
  },
  {
   "cell_type": "code",
   "execution_count": null,
   "id": "1fe600f8-599f-41cb-b560-77171a81f8a8",
   "metadata": {},
   "outputs": [],
   "source": [
    "img=cv2.imread(\"group.jpg\")\n",
    "img2=cv2.cvtColor(img,cv2.COLOR_BGR2GRAY)\n",
    "model2=cv2.CascadeClassifier(r\"C:\\Users\\Ducat\\Desktop\\dataset1\\trained model\\haarcascade_eye.xml\")\n",
    "eye=model2.detectMultiScale(img2,minNeighbors=3,minSize=(10,10))\n",
    "for x,y,w,h in eye:\n",
    "    cv2.rectangle(img,(x,y,w,h),(255,0,0),2)\n",
    "cv2.imshow('Image',img)\n",
    "cv2.waitKey()\n",
    "cv2.destroyAllWindows()"
   ]
  },
  {
   "cell_type": "code",
   "execution_count": null,
   "id": "50fc0c6e-bbd9-469d-b34d-86378502e520",
   "metadata": {},
   "outputs": [],
   "source": [
    "import cv2\n",
    "img=cv2.imread(\"group2.jpg\")\n",
    "img2=cv2.cvtColor(img,cv2.COLOR_BGR2GRAY)\n",
    "model=cv2.CascadeClassifier(r\"C:\\Users\\Ducat\\Desktop\\dataset1\\trained model\\haarcascade_frontalface_alt.xml\")\n",
    "model_eye=cv2.CascadeClassifier(r\"C:\\Users\\Ducat\\Desktop\\dataset1\\trained model\\haarcascade_eye.xml\")\n",
    "faces=model.detectMultiScale(img2,minNeighbors=7,minSize=(10,10),scaleFactor=1.1)\n",
    "for x,y,w,h in faces:\n",
    "    cv2.rectangle(img,(x,y,w,h),(255,0,0),2)\n",
    "    face=img2[y:w+h,x:x+w]\n",
    "    eye=model_eye.detectMultiScale(face)\n",
    "    for ex,ey,ew,eh in eye:\n",
    "        cv2.rectangle(img,(x+ex,y+ey,ew,eh),(0,0,255),2)\n",
    "    \n",
    "cv2.imshow('Image',img)\n",
    "cv2.waitKey()\n",
    "cv2.destroyAllWindows()"
   ]
  },
  {
   "cell_type": "code",
   "execution_count": null,
   "id": "b91260c2-6485-44d9-996f-12b49716dea8",
   "metadata": {},
   "outputs": [],
   "source": [
    "img=cv2.imread(\"group2.jpg\")\n",
    "img2=cv2.cvtColor(img,cv2.COLOR_BGR2GRAY)\n",
    "model=cv2.CascadeClassifier(r\"C:\\Users\\Ducat\\Desktop\\dataset1\\trained model\\haarcascade_frontalface_alt.xml\")\n",
    "model_eye=cv2.CascadeClassifier(r\"C:\\Users\\Ducat\\Desktop\\dataset1\\trained model\\haarcascade_eye.xml\")\n",
    "faces=model.detectMultiScale(img2,minNeighbors=7,minSize=(10,10),scaleFactor=1.1)\n",
    "for x,y,w,h in faces:\n",
    "    cv2.rectangle(img,(x,y,w,h),(255,0,0),2)\n",
    "    face=img2[y:y+h,x:x+w]\n",
    "    eye=model_eye.detectMultiScale(face)\n",
    "    for ex,ey,ew,eh in eye:\n",
    "        cv2.rectangle(img,(x+ex,y+ey,ew,eh),(0,0,255),2)\n",
    "    \n",
    "cv2.imshow('Image',img)\n",
    "cv2.waitKey()\n",
    "cv2.destroyAllWindows()"
   ]
  },
  {
   "cell_type": "code",
   "execution_count": null,
   "id": "d96a508a-d6a4-4294-bb27-85911ec89a04",
   "metadata": {},
   "outputs": [],
   "source": [
    "import pytube"
   ]
  },
  {
   "cell_type": "code",
   "execution_count": null,
   "id": "41fb4b46-0e03-4f31-be9b-3eb6c6a70ddb",
   "metadata": {},
   "outputs": [],
   "source": [
    "pip install pytube"
   ]
  },
  {
   "cell_type": "code",
   "execution_count": null,
   "id": "77fb6804-2e0c-4f2f-9e6c-43577ea2d421",
   "metadata": {},
   "outputs": [],
   "source": [
    "import pytube as yt"
   ]
  },
  {
   "cell_type": "code",
   "execution_count": null,
   "id": "bef0732d-8316-49ab-9cb0-0ca827e466a4",
   "metadata": {},
   "outputs": [],
   "source": [
    "url=\"https://www.youtube.com/watch?v=vPsPqZxBsGA\"\n",
    "yt=yt.YouTube(url)\n",
    "vid=yt.streams.get_highest_resolution()\n",
    "vid.download()"
   ]
  },
  {
   "cell_type": "code",
   "execution_count": 2,
   "id": "40ecbd20-692a-4e5a-acfa-171ddb580570",
   "metadata": {},
   "outputs": [],
   "source": [
    "import cv2"
   ]
  },
  {
   "cell_type": "code",
   "execution_count": 3,
   "id": "c073df80-47cd-4005-8ba8-cbe007aa8237",
   "metadata": {},
   "outputs": [
    {
     "ename": "NameError",
     "evalue": "name 'img' is not defined",
     "output_type": "error",
     "traceback": [
      "\u001b[1;31m---------------------------------------------------------------------------\u001b[0m",
      "\u001b[1;31mNameError\u001b[0m                                 Traceback (most recent call last)",
      "\u001b[1;32m~\\AppData\\Local\\Temp\\ipykernel_5564\\2977700862.py\u001b[0m in \u001b[0;36m<module>\u001b[1;34m\u001b[0m\n\u001b[0;32m      1\u001b[0m \u001b[0mvdo\u001b[0m\u001b[1;33m=\u001b[0m\u001b[0mcv2\u001b[0m\u001b[1;33m.\u001b[0m\u001b[0mVideoCapture\u001b[0m\u001b[1;33m(\u001b[0m\u001b[1;34m\"KAKA New Punjabi Song - Mitti De Tibbe (Official Video)  Afsha Khan  Latest Punjabi Songs 2022.mp4\"\u001b[0m\u001b[1;33m)\u001b[0m\u001b[1;33m\u001b[0m\u001b[1;33m\u001b[0m\u001b[0m\n\u001b[1;32m----> 2\u001b[1;33m \u001b[0mimg2\u001b[0m\u001b[1;33m=\u001b[0m\u001b[0mcv2\u001b[0m\u001b[1;33m.\u001b[0m\u001b[0mcvtColor\u001b[0m\u001b[1;33m(\u001b[0m\u001b[0mimg\u001b[0m\u001b[1;33m,\u001b[0m\u001b[0mcv2\u001b[0m\u001b[1;33m.\u001b[0m\u001b[0mCOLOR_BGR2GRAY\u001b[0m\u001b[1;33m)\u001b[0m\u001b[1;33m\u001b[0m\u001b[1;33m\u001b[0m\u001b[0m\n\u001b[0m\u001b[0;32m      3\u001b[0m \u001b[0mmodel\u001b[0m\u001b[1;33m=\u001b[0m\u001b[0mcv2\u001b[0m\u001b[1;33m.\u001b[0m\u001b[0mCascadeClassifier\u001b[0m\u001b[1;33m(\u001b[0m\u001b[1;34mr\"C:\\Users\\Ducat\\Desktop\\dataset1\\trained model\\haarcascade_frontalface_alt.xml\"\u001b[0m\u001b[1;33m)\u001b[0m\u001b[1;33m\u001b[0m\u001b[1;33m\u001b[0m\u001b[0m\n\u001b[0;32m      4\u001b[0m \u001b[0mmodel_eye\u001b[0m\u001b[1;33m=\u001b[0m\u001b[0mcv2\u001b[0m\u001b[1;33m.\u001b[0m\u001b[0mCascadeClassifier\u001b[0m\u001b[1;33m(\u001b[0m\u001b[1;34mr\"C:\\Users\\Ducat\\Desktop\\dataset1\\trained model\\haarcascade_eye.xml\"\u001b[0m\u001b[1;33m)\u001b[0m\u001b[1;33m\u001b[0m\u001b[1;33m\u001b[0m\u001b[0m\n\u001b[0;32m      5\u001b[0m \u001b[0mfaces\u001b[0m\u001b[1;33m=\u001b[0m\u001b[0mmodel\u001b[0m\u001b[1;33m.\u001b[0m\u001b[0mdetectMultiScale\u001b[0m\u001b[1;33m(\u001b[0m\u001b[0mimg2\u001b[0m\u001b[1;33m,\u001b[0m\u001b[0mminNeighbors\u001b[0m\u001b[1;33m=\u001b[0m\u001b[1;36m7\u001b[0m\u001b[1;33m,\u001b[0m\u001b[0mminSize\u001b[0m\u001b[1;33m=\u001b[0m\u001b[1;33m(\u001b[0m\u001b[1;36m10\u001b[0m\u001b[1;33m,\u001b[0m\u001b[1;36m10\u001b[0m\u001b[1;33m)\u001b[0m\u001b[1;33m,\u001b[0m\u001b[0mscaleFactor\u001b[0m\u001b[1;33m=\u001b[0m\u001b[1;36m1.1\u001b[0m\u001b[1;33m)\u001b[0m\u001b[1;33m\u001b[0m\u001b[1;33m\u001b[0m\u001b[0m\n",
      "\u001b[1;31mNameError\u001b[0m: name 'img' is not defined"
     ]
    }
   ],
   "source": [
    "vdo=cv2.VideoCapture(\"KAKA New Punjabi Song - Mitti De Tibbe (Official Video)  Afsha Khan  Latest Punjabi Songs 2022.mp4\")\n",
    "img2=cv2.cvtColor(img,cv2.COLOR_BGR2GRAY)\n",
    "model=cv2.CascadeClassifier(r\"C:\\Users\\Ducat\\Desktop\\dataset1\\trained model\\haarcascade_frontalface_alt.xml\")\n",
    "model_eye=cv2.CascadeClassifier(r\"C:\\Users\\Ducat\\Desktop\\dataset1\\trained model\\haarcascade_eye.xml\")\n",
    "faces=model.detectMultiScale(img2,minNeighbors=7,minSize=(10,10),scaleFactor=1.1)\n",
    "while True:\n",
    "    flag,img=vdo.read()\n",
    "    for x,y,w,h in faces:\n",
    "        cv2.rectangle(img,(x,y,w,h),(255,0,0),2)\n",
    "        face=img2[y:y+h,x:x+w]\n",
    "        eye=model_eye.detectMultiScale(face)\n",
    "        for ex,ey,ew,eh in eye:\n",
    "            cv2.rectangle(img,(x+ex,y+ey,ew,eh),(0,0,255),2)\n",
    "    \n",
    "cv2.imshow('Image',img)\n",
    "cv2.waitKey()\n",
    "cv2.destroyAllWindows()"
   ]
  },
  {
   "cell_type": "code",
   "execution_count": 8,
   "id": "6f993b7e-00fb-4e68-8b8a-4ceba47af6ee",
   "metadata": {},
   "outputs": [
    {
     "ename": "AttributeError",
     "evalue": "'NoneType' object has no attribute 'read'",
     "output_type": "error",
     "traceback": [
      "\u001b[1;31m---------------------------------------------------------------------------\u001b[0m",
      "\u001b[1;31mAttributeError\u001b[0m                            Traceback (most recent call last)",
      "\u001b[1;32m~\\AppData\\Local\\Temp\\ipykernel_5564\\2492646902.py\u001b[0m in \u001b[0;36m<module>\u001b[1;34m\u001b[0m\n\u001b[0;32m      5\u001b[0m \u001b[1;31m# vdo=cv2.VideoCapture(0)\u001b[0m\u001b[1;33m\u001b[0m\u001b[1;33m\u001b[0m\u001b[0m\n\u001b[0;32m      6\u001b[0m \u001b[1;32mwhile\u001b[0m \u001b[1;32mTrue\u001b[0m\u001b[1;33m:\u001b[0m\u001b[1;33m\u001b[0m\u001b[1;33m\u001b[0m\u001b[0m\n\u001b[1;32m----> 7\u001b[1;33m     \u001b[0mflag\u001b[0m\u001b[1;33m,\u001b[0m\u001b[0mimg\u001b[0m\u001b[1;33m=\u001b[0m\u001b[0mvdo\u001b[0m\u001b[1;33m.\u001b[0m\u001b[0mread\u001b[0m\u001b[1;33m(\u001b[0m\u001b[1;33m)\u001b[0m   \u001b[1;31m# flag(boolean =True, False), img= 3D array(img)\u001b[0m\u001b[1;33m\u001b[0m\u001b[1;33m\u001b[0m\u001b[0m\n\u001b[0m\u001b[0;32m      8\u001b[0m     \u001b[1;32mif\u001b[0m \u001b[0mflag\u001b[0m\u001b[1;33m==\u001b[0m\u001b[1;32mFalse\u001b[0m\u001b[1;33m:\u001b[0m\u001b[1;33m\u001b[0m\u001b[1;33m\u001b[0m\u001b[0m\n\u001b[0;32m      9\u001b[0m         \u001b[1;32mbreak\u001b[0m\u001b[1;33m\u001b[0m\u001b[1;33m\u001b[0m\u001b[0m\n",
      "\u001b[1;31mAttributeError\u001b[0m: 'NoneType' object has no attribute 'read'"
     ]
    }
   ],
   "source": [
    "import cv2\n",
    "vdo=cv2.imread(\"KAKA New Punjabi Song - Mitti De Tibbe (Official Video)  Afsha Khan  Latest Punjabi Songs 2022.mp4\")\n",
    "face_model=cv2.CascadeClassifier(r\"C:\\Users\\Ducat\\Desktop\\dataset1\\trained model\\haarcascade_frontalface_alt.xml\")\n",
    "model_eye=cv2.CascadeClassifier(r\"C:\\Users\\Ducat\\Desktop\\dataset1\\trained model\\haarcascade_eye.xml\")\n",
    "# vdo=cv2.VideoCapture(0)\n",
    "while True:\n",
    "    flag,img=vdo.read()   # flag(boolean =True, False), img= 3D array(img)\n",
    "    if flag==False:\n",
    "        break    \n",
    "    gray=cv2.cvtColor(img,cv2.COLOR_BGR2GRAY)\n",
    "    face=face_model.detectMultiScale(gray)\n",
    "    eye=model_eye.detectMultiScale(gray)\n",
    "    \n",
    "    for x,y,w,h in face:\n",
    "        cv2.rectangle(img,(x,y),(x+w,y+h),(255,255,255),2)\n",
    "        # cv2.rectangle(img,(x,y,w,h),(255,255,255),2)\n",
    "        \n",
    "    for ex,ey,ew,eh in eye:\n",
    "        cv2.rectangle(img,(ex,ey),(ex+ew,ey+eh),(255,0,0),2)\n",
    "    cv2.imshow(\"Frame\",img)\n",
    "    \n",
    "    cv2.waitKey(10)   # it resturn ascii value\n",
    "   \n",
    "cv2.destroyAllWindows()\n",
    "vdo.release()"
   ]
  },
  {
   "cell_type": "code",
   "execution_count": null,
   "id": "f06f0061-3717-4a75-99b8-ddcdaa0f1929",
   "metadata": {},
   "outputs": [],
   "source": [
    "\n",
    "\n"
   ]
  }
 ],
 "metadata": {
  "kernelspec": {
   "display_name": "Python 3 (ipykernel)",
   "language": "python",
   "name": "python3"
  },
  "language_info": {
   "codemirror_mode": {
    "name": "ipython",
    "version": 3
   },
   "file_extension": ".py",
   "mimetype": "text/x-python",
   "name": "python",
   "nbconvert_exporter": "python",
   "pygments_lexer": "ipython3",
   "version": "3.9.13"
  }
 },
 "nbformat": 4,
 "nbformat_minor": 5
}
